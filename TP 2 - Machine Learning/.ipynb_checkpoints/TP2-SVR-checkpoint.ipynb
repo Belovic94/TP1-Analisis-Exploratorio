{
 "cells": [
  {
   "cell_type": "code",
   "execution_count": 27,
   "metadata": {},
   "outputs": [
    {
     "name": "stderr",
     "output_type": "stream",
     "text": [
      "c:\\python27\\lib\\site-packages\\sklearn\\cross_validation.py:41: DeprecationWarning: This module was deprecated in version 0.18 in favor of the model_selection module into which all the refactored classes and functions are moved. Also note that the interface of the new CV iterators are different from that of this module. This module will be removed in 0.20.\n",
      "  \"This module will be removed in 0.20.\", DeprecationWarning)\n"
     ]
    }
   ],
   "source": [
    "import numpy as np\n",
    "import pandas as pd\n",
    "from sklearn.svm import SVR\n",
    "import matplotlib.pyplot as plt\n",
    "from sklearn import preprocessing, cross_validation, svm\n",
    "from sklearn.linear_model import LinearRegression"
   ]
  },
  {
   "cell_type": "code",
   "execution_count": 46,
   "metadata": {},
   "outputs": [],
   "source": [
    "dataEntrenamiento = pd.read_csv('setEntrenamiento.csv', low_memory = False)\n",
    "dataTesteo = pd.read_csv('setTesteo.csv', low_memory = False)\n",
    "dataEntrenamiento.drop(['Unnamed: 0'], axis=1, inplace = True)\n",
    "dataEntrenamiento['created_on'] = pd.to_datetime(dataEntrenamiento['created_on'])"
   ]
  },
  {
   "cell_type": "code",
   "execution_count": 40,
   "metadata": {},
   "outputs": [],
   "source": [
    "def fechaNumerica(x):\n",
    "    return 10000*x.year + 100*x.month + x.day"
   ]
  },
  {
   "cell_type": "code",
   "execution_count": 47,
   "metadata": {},
   "outputs": [],
   "source": [
    "dicc_tipos_prop = {\"apartment\" : 1, \"house\" : 2, \"PH\" : 3, \"store\" : 4}\n",
    "dicc_tipos_zona = {\"Bs.As. G.B.A. Zona Norte\": 1, \"Bs.As. G.B.A. Zona Oeste\": 2, \"Bs.As. G.B.A. Zona Sur\": 3, \"Capital Federal\": 4 }\n",
    "dataEntrenamiento.loc[:, 'property_type'] = dataEntrenamiento.property_type.apply(lambda x: dicc_tipos_prop.get(x))\n",
    "dataEntrenamiento.loc[:, 'zona'] = dataEntrenamiento.zona.apply(lambda x: dicc_tipos_zona.get(x))\n",
    "#data.loc[:, 'distancia_al_centro'] = data.distancia_al_centro.apply(lambda x: int(x))\n",
    "dataEntrenamiento.loc[:, 'created_on'] = dataEntrenamiento.created_on.apply(fechaNumerica)\n",
    "#dataCapital = data.loc[data.state_name.str.contains('Capital Federal'), :]"
   ]
  },
  {
   "cell_type": "code",
   "execution_count": 49,
   "metadata": {},
   "outputs": [
    {
     "name": "stdout",
     "output_type": "stream",
     "text": [
      "<class 'pandas.core.frame.DataFrame'>\n",
      "RangeIndex: 86846 entries, 0 to 86845\n",
      "Data columns (total 22 columns):\n",
      "created_on                 86846 non-null int64\n",
      "property_type              86846 non-null int64\n",
      "lat                        86846 non-null float64\n",
      "lon                        86846 non-null float64\n",
      "barrio                     86846 non-null object\n",
      "price_aprox_usd            86846 non-null float64\n",
      "price_usd_per_m2           86846 non-null float64\n",
      "surface_total_in_m2        86846 non-null float64\n",
      "surface_covered_in_m2      86846 non-null float64\n",
      "zona                       86846 non-null int64\n",
      "pileta                     86846 non-null int64\n",
      "cochera                    86846 non-null int64\n",
      "aire acondicionado         86846 non-null int64\n",
      "seguridad                  86846 non-null int64\n",
      "patio                      86846 non-null int64\n",
      "amenities                  86846 non-null int64\n",
      "distanciaCentro            86846 non-null float64\n",
      "distanciaAIndoamericano    86846 non-null float64\n",
      "distanciaAFuerteApache     86846 non-null float64\n",
      "distanciaACarlosGardel     86846 non-null float64\n",
      "subtes_cercanos            86846 non-null int64\n",
      "trenes_cercanos            86846 non-null int64\n",
      "dtypes: float64(10), int64(11), object(1)\n",
      "memory usage: 14.6+ MB\n"
     ]
    }
   ],
   "source": [
    "dataEntrenamiento.info()"
   ]
  },
  {
   "cell_type": "code",
   "execution_count": 56,
   "metadata": {},
   "outputs": [
    {
     "data": {
      "text/plain": [
       "(86846, 22)"
      ]
     },
     "execution_count": 56,
     "metadata": {},
     "output_type": "execute_result"
    }
   ],
   "source": [
    "dataTransformada = dataEntrenamiento\n",
    "dataTransformada.dropna().shape"
   ]
  },
  {
   "cell_type": "code",
   "execution_count": 61,
   "metadata": {},
   "outputs": [],
   "source": [
    "#X = np.array(dataTransformada.drop(['price_aprox_usd', 'barrio'], 1))\n",
    "columnas = ['created_on', 'property_type','pileta', 'lat', 'lon' ,'cochera', 'surface_total_in_m2',\\\n",
    "            'surface_covered_in_m2', 'seguridad', 'amenities','zona' ,\\\n",
    "            'subtes_cercanos', 'trenes_cercanos']\n",
    "X = np.array(dataTransformada.loc[:,columnas])\n",
    "y = np.array(dataTransformada['price_aprox_usd'])"
   ]
  },
  {
   "cell_type": "code",
   "execution_count": 62,
   "metadata": {},
   "outputs": [],
   "source": [
    "#Cross validation con 80% training y 20% test \n",
    "X_train, X_test, y_train, y_test = cross_validation.train_test_split(X, y, test_size=0.2)"
   ]
  },
  {
   "cell_type": "code",
   "execution_count": 63,
   "metadata": {
    "collapsed": true
   },
   "outputs": [],
   "source": [
    "# -> https://pythonprogramming.net/training-testing-machine-learning-tutorial/\n",
    "clf = svm.SVR()"
   ]
  },
  {
   "cell_type": "code",
   "execution_count": 64,
   "metadata": {},
   "outputs": [
    {
     "data": {
      "text/plain": [
       "SVR(C=1.0, cache_size=200, coef0=0.0, degree=3, epsilon=0.1, gamma='auto',\n",
       "  kernel='rbf', max_iter=-1, shrinking=True, tol=0.001, verbose=False)"
      ]
     },
     "execution_count": 64,
     "metadata": {},
     "output_type": "execute_result"
    }
   ],
   "source": [
    "clf.fit(X_train, y_train)"
   ]
  },
  {
   "cell_type": "code",
   "execution_count": 65,
   "metadata": {},
   "outputs": [
    {
     "name": "stdout",
     "output_type": "stream",
     "text": [
      "-0.0922160180127\n"
     ]
    }
   ],
   "source": [
    "confidence = clf.score(X_test, y_test)\n",
    "print confidence"
   ]
  },
  {
   "cell_type": "code",
   "execution_count": null,
   "metadata": {
    "collapsed": true
   },
   "outputs": [],
   "source": [
    "#Pruebo distintos kernels para SVR y veo sus scores:\n",
    "for k in ['linear','poly','rbf','sigmoid']:\n",
    "    clf = svm.SVR(kernel=k)\n",
    "    clf.fit(X_train, y_train)\n",
    "    confidence = clf.score(X_test, y_test)\n",
    "    print(k,confidence)"
   ]
  },
  {
   "cell_type": "code",
   "execution_count": null,
   "metadata": {},
   "outputs": [],
   "source": [
    "#Pagina SVR http://scikit-learn.org/stable/auto_examples/svm/plot_svm_regression.html\n",
    "svr_rbf = SVR(kernel='rbf', C=1e3, gamma=0.1)\n",
    "svr_lin = SVR(kernel='linear', C=1e3)\n",
    "svr_poly = SVR(kernel='poly', C=1e3, degree=2)\n",
    "y_rbf = svr_rbf.fit(X, y).predict(X)\n",
    "y_lin = svr_lin.fit(X, y).predict(X)\n",
    "y_poly = svr_poly.fit(X, y).predict(X)"
   ]
  },
  {
   "cell_type": "code",
   "execution_count": null,
   "metadata": {
    "collapsed": true
   },
   "outputs": [],
   "source": [
    "lw = 2\n",
    "plt.scatter(X, y, color='darkorange', label='data')\n",
    "plt.plot(X, y_rbf, color='navy', lw=lw, label='RBF model')\n",
    "plt.plot(X, y_lin, color='c', lw=lw, label='Linear model')\n",
    "plt.plot(X, y_poly, color='cornflowerblue', lw=lw, label='Polynomial model')\n",
    "plt.xlabel('data')\n",
    "plt.ylabel('target')\n",
    "plt.title('Support Vector Regression')\n",
    "plt.legend()\n",
    "plt.show()"
   ]
  }
 ],
 "metadata": {
  "kernelspec": {
   "display_name": "Python 2",
   "language": "python",
   "name": "python2"
  },
  "language_info": {
   "codemirror_mode": {
    "name": "ipython",
    "version": 2
   },
   "file_extension": ".py",
   "mimetype": "text/x-python",
   "name": "python",
   "nbconvert_exporter": "python",
   "pygments_lexer": "ipython2",
   "version": "2.7.10"
  }
 },
 "nbformat": 4,
 "nbformat_minor": 2
}
