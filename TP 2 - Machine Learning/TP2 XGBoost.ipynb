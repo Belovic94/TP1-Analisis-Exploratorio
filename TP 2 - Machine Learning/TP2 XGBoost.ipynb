{
 "cells": [
  {
   "cell_type": "code",
   "execution_count": 1373,
   "metadata": {},
   "outputs": [
    {
     "name": "stdout",
     "output_type": "stream",
     "text": [
      "<class 'pandas.core.frame.DataFrame'>\n",
      "RangeIndex: 86846 entries, 0 to 86845\n",
      "Data columns (total 22 columns):\n",
      "created_on                 86846 non-null datetime64[ns]\n",
      "property_type              86846 non-null object\n",
      "lat                        86846 non-null float64\n",
      "lon                        86846 non-null float64\n",
      "barrio                     86846 non-null object\n",
      "price_aprox_usd            86846 non-null float64\n",
      "price_usd_per_m2           86846 non-null float64\n",
      "surface_total_in_m2        86846 non-null float64\n",
      "surface_covered_in_m2      86846 non-null float64\n",
      "zona                       86846 non-null object\n",
      "pileta                     86846 non-null int64\n",
      "cochera                    86846 non-null int64\n",
      "aire acondicionado         86846 non-null int64\n",
      "seguridad                  86846 non-null int64\n",
      "patio                      86846 non-null int64\n",
      "amenities                  86846 non-null int64\n",
      "distanciaCentro            86846 non-null float64\n",
      "distanciaAIndoamericano    86846 non-null float64\n",
      "distanciaAFuerteApache     86846 non-null float64\n",
      "distanciaACarlosGardel     86846 non-null float64\n",
      "subtes_cercanos            86846 non-null int64\n",
      "trenes_cercanos            86846 non-null int64\n",
      "dtypes: datetime64[ns](1), float64(10), int64(8), object(3)\n",
      "memory usage: 14.6+ MB\n"
     ]
    }
   ],
   "source": [
    "import pandas as pd\n",
    "import numpy as np\n",
    "import matplotlib.pyplot as plt\n",
    "from datetime import datetime\n",
    "\n",
    "data = pd.read_csv(\"setEntrenamiento.csv\", low_memory = False)\n",
    "data = data.drop('Unnamed: 0', axis = 1)\n",
    "data['created_on'] = pd.to_datetime(data['created_on'])\n",
    "data.info()"
   ]
  },
  {
   "cell_type": "code",
   "execution_count": 1374,
   "metadata": {
    "collapsed": true
   },
   "outputs": [],
   "source": [
    "def fechaNumerica(x):\n",
    "    return 10000*x.year + 100*x.month + x.day"
   ]
  },
  {
   "cell_type": "code",
   "execution_count": 1375,
   "metadata": {
    "collapsed": true
   },
   "outputs": [],
   "source": [
    "dicc_tipos_prop = {\"apartment\" : 1, \"house\" : 2, \"PH\" : 3, \"store\" : 4}\n",
    "dicc_tipos_zona = {\"Bs.As. G.B.A. Zona Norte\": 1, \"Bs.As. G.B.A. Zona Oeste\": 2, \"Bs.As. G.B.A. Zona Sur\": 3, \"Capital Federal\": 4, \"Buenos Aires Interior\":5 }"
   ]
  },
  {
   "cell_type": "code",
   "execution_count": 1376,
   "metadata": {},
   "outputs": [],
   "source": [
    "data.loc[:, 'property_type'] = data.property_type.apply(lambda x: dicc_tipos_prop.get(x))\n",
    "data.loc[:, 'zona'] = data.zona.apply(lambda x: dicc_tipos_zona.get(x))\n",
    "data.loc[:, 'created_on'] = data.created_on.apply(fechaNumerica)\n",
    "data['distanciaCentro'] = data['distanciaCentro'].apply(lambda x: x/1000)\n",
    "data['distanciaACarlosGardel'] = data['distanciaACarlosGardel'].apply(lambda x: x/1000)\n",
    "data['distanciaAFuerteApache'] = data['distanciaAFuerteApache'].apply(lambda x: x/1000)\n",
    "data['distanciaAIndoamericano'] = data['distanciaAIndoamericano'].apply(lambda x: x/1000)"
   ]
  },
  {
   "cell_type": "code",
   "execution_count": 1378,
   "metadata": {},
   "outputs": [],
   "source": [
    "from sklearn.model_selection import train_test_split, GridSearchCV\n",
    "from sklearn.neighbors import KNeighborsClassifier\n",
    "from sklearn.metrics import accuracy_score, r2_score, classification_report, mean_squared_error\n",
    "from sklearn.model_selection import cross_val_score, KFold\n",
    "from sklearn.linear_model import LinearRegression\n",
    "from sklearn.feature_selection import SelectKBest\n",
    "from sklearn.feature_selection import  f_regression\n",
    "from sklearn.ensemble import RandomForestRegressor\n",
    "from xgboost import XGBRegressor\n",
    "from sklearn.ensemble import GradientBoostingRegressor\n",
    "from sklearn.pipeline import Pipeline\n"
   ]
  },
  {
   "cell_type": "code",
   "execution_count": 1400,
   "metadata": {},
   "outputs": [
    {
     "data": {
      "text/plain": [
       "17"
      ]
     },
     "execution_count": 1400,
     "metadata": {},
     "output_type": "execute_result"
    }
   ],
   "source": [
    "columnas = data.drop([\"price_aprox_usd\", 'barrio', 'price_usd_per_m2', 'patio', 'distanciaACarlosGardel'], axis =1).columns.values\n",
    "len(columnas)"
   ]
  },
  {
   "cell_type": "code",
   "execution_count": 1401,
   "metadata": {},
   "outputs": [
    {
     "name": "stdout",
     "output_type": "stream",
     "text": [
      "['created_on', 'property_type', 'lat', 'lon', 'surface_total_in_m2', 'surface_covered_in_m2', 'zona', 'pileta', 'cochera', 'aire acondicionado', 'seguridad', 'amenities', 'distanciaCentro', 'distanciaAIndoamericano', 'distanciaAFuerteApache', 'subtes_cercanos', 'trenes_cercanos']\n"
     ]
    }
   ],
   "source": [
    "def func(x, y):\n",
    "    return f_regression(x,y, center = False)\n",
    "\n",
    "\n",
    "x = np.array(data.loc[:,columnas])\n",
    "y = np.array(data['price_aprox_usd'])\n",
    "\n",
    "featureSelector = SelectKBest(score_func= func, k=17)\n",
    "featureSelector.fit(x,y)\n",
    "bestCol = ([columnas[zero_based_index] for zero_based_index in list(featureSelector.get_support(indices=True))])\n",
    "print(bestCol)"
   ]
  },
  {
   "cell_type": "code",
   "execution_count": 1402,
   "metadata": {},
   "outputs": [],
   "source": [
    "x = np.array(data.loc[:, bestCol])\n",
    "y = np.array(data['price_aprox_usd'])\n",
    "x.shape"
   ]
  },
  {
   "cell_type": "code",
   "execution_count": 1449,
   "metadata": {
    "collapsed": true
   },
   "outputs": [],
   "source": [
    "#XGBOOST (Mejor con max_depth= 10 columnas = 19, n_estimators = 300)\n",
    "\n",
    "x_train, x_test, y_train, y_test = train_test_split(x, y, test_size=0.20, random_state=42)\n",
    "clf =XGBRegressor( n_estimators= 300, max_depth = 10)"
   ]
  },
  {
   "cell_type": "code",
   "execution_count": 1405,
   "metadata": {},
   "outputs": [
    {
     "data": {
      "text/plain": [
       "XGBRegressor(base_score=0.5, colsample_bylevel=1, colsample_bytree=1, gamma=0,\n",
       "       learning_rate=0.1, max_delta_step=0, max_depth=10,\n",
       "       min_child_weight=1, missing=None, n_estimators=300, nthread=-1,\n",
       "       objective='reg:linear', reg_alpha=0, reg_lambda=1,\n",
       "       scale_pos_weight=1, seed=0, silent=True, subsample=1)"
      ]
     },
     "execution_count": 1405,
     "metadata": {},
     "output_type": "execute_result"
    }
   ],
   "source": [
    "clf.fit(x_train, y_train)"
   ]
  },
  {
   "cell_type": "code",
   "execution_count": 1406,
   "metadata": {},
   "outputs": [
    {
     "name": "stdout",
     "output_type": "stream",
     "text": [
      "0.814177421751\n"
     ]
    }
   ],
   "source": [
    "y_pred1 = clf.predict(x_test)\n",
    "print(r2_score(y_test, y_pred1))"
   ]
  },
  {
   "cell_type": "code",
   "execution_count": 1450,
   "metadata": {},
   "outputs": [
    {
     "data": {
      "text/plain": [
       "149281.59278338263"
      ]
     },
     "execution_count": 1450,
     "metadata": {},
     "output_type": "execute_result"
    }
   ],
   "source": [
    "np.sqrt(mean_squared_error(y_test, y_pred1))"
   ]
  },
  {
   "cell_type": "code",
   "execution_count": 1433,
   "metadata": {},
   "outputs": [
    {
     "data": {
      "text/plain": [
       "GridSearchCV(cv=None, error_score='raise',\n",
       "       estimator=XGBRegressor(base_score=0.5, colsample_bylevel=1, colsample_bytree=1, gamma=0,\n",
       "       learning_rate=0.1, max_delta_step=0, max_depth=3,\n",
       "       min_child_weight=1, missing=None, n_estimators=100, nthread=-1,\n",
       "       objective='reg:linear', reg_alpha=0, reg_lambda=1,\n",
       "       scale_pos_weight=1, seed=0, silent=True, subsample=1),\n",
       "       fit_params=None, iid=True, n_jobs=1,\n",
       "       param_grid={'n_estimators': [300], 'max_depth': [10]},\n",
       "       pre_dispatch='2*n_jobs', refit=True, return_train_score='warn',\n",
       "       scoring=None, verbose=0)"
      ]
     },
     "execution_count": 1433,
     "metadata": {},
     "output_type": "execute_result"
    }
   ],
   "source": [
    "x_train, x_test, y_train, y_test = train_test_split(x, y, test_size=0.20, random_state=42)\n",
    "params = { 'n_estimators': [290,300], 'max_depth': [9,10] }\n",
    "xgb = XGBRegressor() \n",
    "grid = GridSearchCV(xgb, params)\n",
    "grid.fit(x, y)"
   ]
  },
  {
   "cell_type": "code",
   "execution_count": 1451,
   "metadata": {},
   "outputs": [
    {
     "name": "stdout",
     "output_type": "stream",
     "text": [
      "0.966213097377\n"
     ]
    }
   ],
   "source": [
    "y_pred = grid.best_estimator_.predict(x_test)# ultimo\n",
    "print(r2_score(y_test, grid.best_estimator_.predict(x_test))) "
   ]
  },
  {
   "cell_type": "code",
   "execution_count": 1435,
   "metadata": {
    "collapsed": true
   },
   "outputs": [],
   "source": [
    "avg_score = []\n",
    "for i in range(len(y_test)):\n",
    "    avg_score.append((y_pred[i] + y_pred1[i])/2)"
   ]
  },
  {
   "cell_type": "code",
   "execution_count": 1438,
   "metadata": {},
   "outputs": [
    {
     "data": {
      "text/plain": [
       "98699.936728828281"
      ]
     },
     "execution_count": 1438,
     "metadata": {},
     "output_type": "execute_result"
    }
   ],
   "source": [
    "np.sqrt(mean_squared_error(y_test, avg_score))"
   ]
  },
  {
   "cell_type": "code",
   "execution_count": 1439,
   "metadata": {},
   "outputs": [
    {
     "data": {
      "text/plain": [
       "63654.807556292559"
      ]
     },
     "execution_count": 1439,
     "metadata": {},
     "output_type": "execute_result"
    }
   ],
   "source": [
    "np.sqrt(mean_squared_error(y_test, y_pred))"
   ]
  },
  {
   "cell_type": "code",
   "execution_count": 1441,
   "metadata": {},
   "outputs": [
    {
     "name": "stdout",
     "output_type": "stream",
     "text": [
      "<class 'pandas.core.frame.DataFrame'>\n",
      "RangeIndex: 14166 entries, 0 to 14165\n",
      "Data columns (total 21 columns):\n",
      "id                         14166 non-null int64\n",
      "created_on                 14166 non-null datetime64[ns]\n",
      "property_type              14166 non-null object\n",
      "lat                        14166 non-null float64\n",
      "lon                        14166 non-null float64\n",
      "barrio                     14166 non-null object\n",
      "surface_total_in_m2        14166 non-null float64\n",
      "surface_covered_in_m2      14166 non-null float64\n",
      "zona                       14166 non-null object\n",
      "pileta                     14166 non-null int64\n",
      "cochera                    14166 non-null int64\n",
      "aire acondicionado         14166 non-null int64\n",
      "seguridad                  14166 non-null int64\n",
      "patio                      14166 non-null int64\n",
      "amenities                  14166 non-null int64\n",
      "distanciaCentro            14166 non-null float64\n",
      "distanciaAIndoamericano    14166 non-null float64\n",
      "distanciaAFuerteApache     14166 non-null float64\n",
      "distanciaACarlosGardel     14166 non-null float64\n",
      "subtes_cercanos            14166 non-null int64\n",
      "trenes_cercanos            14166 non-null int64\n",
      "dtypes: datetime64[ns](1), float64(8), int64(9), object(3)\n",
      "memory usage: 2.3+ MB\n"
     ]
    }
   ],
   "source": [
    "test = pd.read_csv(\"setTesteo.csv\")\n",
    "test = test.drop('Unnamed: 0', axis = 1)\n",
    "test['created_on'] = pd.to_datetime(test['created_on'])\n",
    "test.info()"
   ]
  },
  {
   "cell_type": "code",
   "execution_count": 1442,
   "metadata": {
    "collapsed": true
   },
   "outputs": [],
   "source": [
    "test1 = test.drop(['barrio', 'id'], axis = 1)\n",
    "test1.loc[:, 'property_type'] = test.property_type.apply(lambda x: dicc_tipos_prop.get(x))\n",
    "test1.loc[:, 'zona'] = test.zona.apply(lambda x: dicc_tipos_zona.get(x))\n",
    "test1.loc[:, 'created_on'] = test.created_on.apply(fechaNumerica)\n",
    "test1['distanciaCentro'] = test['distanciaCentro'].apply(lambda x: x/1000)\n",
    "test1['distanciaACarlosGardel'] = test['distanciaACarlosGardel'].apply(lambda x: x/1000)\n",
    "test1['distanciaAFuerteApache'] = test['distanciaAFuerteApache'].apply(lambda x: x/1000)\n",
    "test1['distanciaAIndoamericano'] = test['distanciaAIndoamericano'].apply(lambda x: x/1000)"
   ]
  },
  {
   "cell_type": "code",
   "execution_count": 1443,
   "metadata": {},
   "outputs": [
    {
     "name": "stdout",
     "output_type": "stream",
     "text": [
      "<class 'pandas.core.frame.DataFrame'>\n",
      "RangeIndex: 14166 entries, 0 to 14165\n",
      "Data columns (total 19 columns):\n",
      "created_on                 14166 non-null int64\n",
      "property_type              14166 non-null int64\n",
      "lat                        14166 non-null float64\n",
      "lon                        14166 non-null float64\n",
      "surface_total_in_m2        14166 non-null float64\n",
      "surface_covered_in_m2      14166 non-null float64\n",
      "zona                       14166 non-null int64\n",
      "pileta                     14166 non-null int64\n",
      "cochera                    14166 non-null int64\n",
      "aire acondicionado         14166 non-null int64\n",
      "seguridad                  14166 non-null int64\n",
      "patio                      14166 non-null int64\n",
      "amenities                  14166 non-null int64\n",
      "distanciaCentro            14166 non-null float64\n",
      "distanciaAIndoamericano    14166 non-null float64\n",
      "distanciaAFuerteApache     14166 non-null float64\n",
      "distanciaACarlosGardel     14166 non-null float64\n",
      "subtes_cercanos            14166 non-null int64\n",
      "trenes_cercanos            14166 non-null int64\n",
      "dtypes: float64(8), int64(11)\n",
      "memory usage: 2.1 MB\n"
     ]
    }
   ],
   "source": [
    "test1.info()"
   ]
  },
  {
   "cell_type": "code",
   "execution_count": 1444,
   "metadata": {
    "scrolled": false
   },
   "outputs": [],
   "source": [
    "testeo = np.array(test1[bestCol])\n",
    "testing = grid.best_estimator_.predict(testeo)"
   ]
  },
  {
   "cell_type": "code",
   "execution_count": 1446,
   "metadata": {
    "collapsed": true
   },
   "outputs": [],
   "source": [
    "test['price_usd'] = testing"
   ]
  },
  {
   "cell_type": "code",
   "execution_count": 1447,
   "metadata": {
    "collapsed": true
   },
   "outputs": [],
   "source": [
    "testFinal = test.loc[:,['id', 'price_usd']]\n",
    "testFinal.to_csv('pricePrediction.csv', sep=',', index = False)"
   ]
  },
  {
   "cell_type": "code",
   "execution_count": 1198,
   "metadata": {
    "collapsed": true
   },
   "outputs": [],
   "source": [
    "x = np.array(data.loc[:, bestCol])\n",
    "y = np.array(data['price_aprox_usd'])"
   ]
  },
  {
   "cell_type": "code",
   "execution_count": null,
   "metadata": {
    "scrolled": true
   },
   "outputs": [],
   "source": [
    "#Random Forest\n",
    "x_train, x_test, y_train, y_test = train_test_split(x, y, test_size=0.20, random_state=0)\n",
    "params = { 'n_estimators': [300], 'max_depth': [10] }\n",
    "rf = RandomForestRegressor() \n",
    "grid = GridSearchCV(rf, params)\n",
    "grid.fit(x, y)"
   ]
  },
  {
   "cell_type": "code",
   "execution_count": null,
   "metadata": {
    "collapsed": true
   },
   "outputs": [],
   "source": [
    "y_pred2 = rf.predict(x_test)\n",
    "print(r2_score(y_test, y_pred2))"
   ]
  },
  {
   "cell_type": "code",
   "execution_count": 1367,
   "metadata": {
    "collapsed": true
   },
   "outputs": [],
   "source": [
    "x_train, x_test, y_train, y_test = train_test_split(x, y, test_size=0.20, random_state=0)\n",
    "rf = RandomForestRegressor( n_estimators= 300, max_depth = 10)"
   ]
  },
  {
   "cell_type": "code",
   "execution_count": 1368,
   "metadata": {},
   "outputs": [
    {
     "data": {
      "text/plain": [
       "RandomForestRegressor(bootstrap=True, criterion='mse', max_depth=10,\n",
       "           max_features='auto', max_leaf_nodes=None,\n",
       "           min_impurity_decrease=0.0, min_impurity_split=None,\n",
       "           min_samples_leaf=1, min_samples_split=2,\n",
       "           min_weight_fraction_leaf=0.0, n_estimators=300, n_jobs=1,\n",
       "           oob_score=False, random_state=None, verbose=0, warm_start=False)"
      ]
     },
     "execution_count": 1368,
     "metadata": {},
     "output_type": "execute_result"
    }
   ],
   "source": [
    "rf.fit(x_train, y_train)"
   ]
  },
  {
   "cell_type": "code",
   "execution_count": 1369,
   "metadata": {},
   "outputs": [
    {
     "name": "stdout",
     "output_type": "stream",
     "text": [
      "0.756796384064\n"
     ]
    }
   ],
   "source": [
    "y_pred2 = rf.predict(x_test)\n",
    "print(r2_score(y_test, y_pred2))"
   ]
  },
  {
   "cell_type": "code",
   "execution_count": 895,
   "metadata": {},
   "outputs": [
    {
     "name": "stdout",
     "output_type": "stream",
     "text": [
      "0.963983789151\n"
     ]
    }
   ],
   "source": [
    "y_pred2 = grid.best_estimator_.predict(x_test)\n",
    "print(r2_score(y_test, y_pred2))"
   ]
  },
  {
   "cell_type": "code",
   "execution_count": 897,
   "metadata": {},
   "outputs": [
    {
     "name": "stdout",
     "output_type": "stream",
     "text": [
      "0.964116919622\n"
     ]
    }
   ],
   "source": [
    "y_pred2 = grid.best_estimator_.predict(x_test)\n",
    "print(r2_score(y_test, y_pred2))"
   ]
  },
  {
   "cell_type": "code",
   "execution_count": 292,
   "metadata": {
    "collapsed": true
   },
   "outputs": [],
   "source": [
    "#Algoritmo de Linear Regression\n",
    "from sklearn.metrics import mean_squared_error\n",
    "def linearR(x_train, x_test, y_train, y_test):\n",
    "    linreg = LinearRegression()\n",
    "    linreg.fit(x_train, y_train)\n",
    "    y_pred = linreg.predict(x_test)\n",
    "    return mean_squared_error(y_test, y_pred)"
   ]
  },
  {
   "cell_type": "code",
   "execution_count": null,
   "metadata": {},
   "outputs": [],
   "source": [
    "#prueba todas las combinaciones\n",
    "resultados = []\n",
    "y = np.array(data['price_aprox_usd'])\n",
    "\n",
    "for j in list_columnas: \n",
    "    x = np.array(data.loc[:,j])\n",
    "    x_train, x_test, y_train, y_test = train_test_split(x, y , test_size = 0.33, random_state = 42)\n",
    "    resultados.append(linearR(x_train, x_test, y_train, y_test))"
   ]
  },
  {
   "cell_type": "code",
   "execution_count": 26,
   "metadata": {
    "collapsed": true
   },
   "outputs": [],
   "source": [
    "x = np.array(data.loc[:,list_columnas[resultados.index(min(resultados))]])\n",
    "y = np.array(data['price_aprox_usd'])\n",
    "x_train, x_test, y_train, y_test = train_test_split(x, y)"
   ]
  },
  {
   "cell_type": "code",
   "execution_count": 27,
   "metadata": {
    "collapsed": true
   },
   "outputs": [],
   "source": [
    "linreg = LinearRegression()\n",
    "linreg.fit(x_train, y_train)\n",
    "y_pred = linreg.predict(x_test)"
   ]
  },
  {
   "cell_type": "code",
   "execution_count": null,
   "metadata": {},
   "outputs": [],
   "source": [
    "predicc = []\n",
    "for i in range(len(y_test)):\n",
    "    predicc.append((y_test[i], y_pred[i]))"
   ]
  },
  {
   "cell_type": "code",
   "execution_count": 181,
   "metadata": {},
   "outputs": [
    {
     "data": {
      "text/plain": [
       "0.049949933277721417"
      ]
     },
     "execution_count": 181,
     "metadata": {},
     "output_type": "execute_result"
    }
   ],
   "source": [
    "#Implemento CART: Clasification and Regression Trees\n",
    "from sklearn.tree import DecisionTreeRegressor\n",
    "\n",
    "regressor = DecisionTreeRegressor(max_depth = 2)\n",
    "dt_fit = regressor.fit(x_train, y_train)\n",
    "dt_scores = cross_val_score(dt_fit, x_train, y_train, cv = 5)\n",
    "np.mean(dt_scores)\n"
   ]
  },
  {
   "cell_type": "code",
   "execution_count": 185,
   "metadata": {},
   "outputs": [
    {
     "name": "stdout",
     "output_type": "stream",
     "text": [
      "mean cross validation score: 0.5874589287405033\n",
      "score without cv: 0.8232761051115904\n",
      "0.683320358604\n",
      "0.683320358604\n"
     ]
    }
   ],
   "source": [
    "x = np.array(data.loc[:,bestCol])\n",
    "y = np.array(data['price_aprox_usd'])\n",
    "x_train, x_test, y_train, y_test = train_test_split(x, y, test_size=0.20, random_state=0)\n",
    "\n",
    "dt = DecisionTreeRegressor(max_depth = 10)\n",
    "dt_fit = dt.fit(x_train, y_train)\n",
    "\n",
    "dt_scores = cross_val_score(dt_fit, x_train, y_train, cv = 10)\n",
    "print(\"mean cross validation score: {}\".format(np.mean(dt_scores)))\n",
    "print(\"score without cv: {}\".format(dt_fit.score(x_train, y_train)))\n",
    "\n",
    " #on the test or hold-out set\n",
    "from sklearn.metrics import r2_score\n",
    "print(r2_score(y_test, dt_fit.predict(x_test)))\n",
    "print(dt_fit.score(x_test, y_test))"
   ]
  },
  {
   "cell_type": "code",
   "execution_count": 214,
   "metadata": {
    "collapsed": true
   },
   "outputs": [],
   "source": [
    "def GradientBoost(x_train, x_test, y_train, y_test, k):\n",
    "    graBoost = GradientBoostingRegressor(n_estimators= k, max_depth = 2, min_samples_split =2)\n",
    "    graBoost.fit(x_train, y_train)\n",
    "    y_pred = graBoost.predict(x_test)\n",
    "    return np.sqrt(mean_squared_error(y_test, y_pred))"
   ]
  },
  {
   "cell_type": "code",
   "execution_count": 112,
   "metadata": {
    "collapsed": true
   },
   "outputs": [],
   "source": [
    "#Buscando la mejor cantidad de arboles ( usar 150 arboles, despues no mejora mucho)\n",
    "resultados = []\n",
    "for k in range(100, 201, 10): \n",
    "    resultados.append(GradientBoost(x_train, x_test, y_train, y_test, k ))"
   ]
  }
 ],
 "metadata": {
  "kernelspec": {
   "display_name": "Python 3",
   "language": "python",
   "name": "python3"
  },
  "language_info": {
   "codemirror_mode": {
    "name": "ipython",
    "version": 3
   },
   "file_extension": ".py",
   "mimetype": "text/x-python",
   "name": "python",
   "nbconvert_exporter": "python",
   "pygments_lexer": "ipython3",
   "version": "3.5.2"
  }
 },
 "nbformat": 4,
 "nbformat_minor": 2
}
