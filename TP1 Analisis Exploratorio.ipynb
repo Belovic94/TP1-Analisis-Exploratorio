{
 "cells": [
  {
   "cell_type": "code",
   "execution_count": 2,
   "metadata": {
    "collapsed": true,
    "scrolled": true
   },
   "outputs": [],
   "source": [
    "#Alumnos:\n",
    "#Belovsevich Mugerli, Victor Marcelo 97757\n",
    "#Pereira, Martin \n",
    "#Petrucci, Maximiliano 95872\n",
    "#link a repositorio de github: "
   ]
  },
  {
   "cell_type": "code",
   "execution_count": 3,
   "metadata": {
    "collapsed": true
   },
   "outputs": [],
   "source": [
    "import datetime as datetime\n",
    "import pandas as pd\n",
    "import numpy as np\n",
    "import datetime \n",
    "import seaborn as sns\n",
    "import matplotlib.pyplot as plt\n",
    "\n",
    "#Permite ver los graficos sin colocar plt.show\n",
    "%matplotlib inline "
   ]
  },
  {
   "cell_type": "code",
   "execution_count": 4,
   "metadata": {},
   "outputs": [
    {
     "name": "stdout",
     "output_type": "stream",
     "text": [
      "<class 'pandas.core.frame.DataFrame'>\n",
      "RangeIndex: 187482 entries, 0 to 187481\n",
      "Data columns (total 27 columns):\n",
      "id                            187482 non-null object\n",
      "created_on                    187482 non-null object\n",
      "operation                     187482 non-null object\n",
      "property_type                 187482 non-null object\n",
      "place_name                    187447 non-null object\n",
      "place_with_parent_names       187482 non-null object\n",
      "country_name                  187482 non-null object\n",
      "state_name                    187482 non-null object\n",
      "geonames_id                   158318 non-null float64\n",
      "lat-lon                       118761 non-null object\n",
      "lat                           118761 non-null float64\n",
      "lon                           118761 non-null float64\n",
      "price                         154443 non-null float64\n",
      "currency                      154441 non-null object\n",
      "price_aprox_local_currency    154443 non-null float64\n",
      "price_aprox_usd               154443 non-null float64\n",
      "surface_total_in_m2           125027 non-null float64\n",
      "surface_covered_in_m2         152420 non-null float64\n",
      "price_usd_per_m2              105024 non-null float64\n",
      "price_per_m2                  131665 non-null float64\n",
      "floor                         14294 non-null float64\n",
      "rooms                         80320 non-null float64\n",
      "expenses                      17520 non-null float64\n",
      "properati_url                 187482 non-null object\n",
      "description                   187473 non-null object\n",
      "title                         187482 non-null object\n",
      "image_thumbnail               182814 non-null object\n",
      "dtypes: float64(13), object(14)\n",
      "memory usage: 38.6+ MB\n"
     ]
    }
   ],
   "source": [
    "propiedades = pd.read_csv(\"properati-AR-2017-08-01-properties-sell.csv\", low_memory = False)\n",
    "propiedades.info()"
   ]
  },
  {
   "cell_type": "markdown",
   "metadata": {
    "collapsed": true
   },
   "source": [
    "# FILTRADO DE DATOS"
   ]
  },
  {
   "cell_type": "code",
   "execution_count": 5,
   "metadata": {
    "collapsed": true
   },
   "outputs": [],
   "source": [
    "#Convierto la fecha de crecion en un datetime64[ns]\n",
    "propiedades['created_on'] = pd.to_datetime(propiedades['created_on'])\n",
    "\n",
    "#Se procede a filtrar las propiedades anteriores al 2014\n",
    "propiedades = propiedades[propiedades.created_on.dt.year > 2013]"
   ]
  },
  {
   "cell_type": "code",
   "execution_count": 6,
   "metadata": {
    "collapsed": true
   },
   "outputs": [],
   "source": [
    "#Obtengo los datos de Capital Federal y de GBA\n",
    "propiedadesCapGBA = propiedades.loc[(propiedades.state_name.str.contains('Capital Federal') | propiedades.state_name.str.contains('G.B.A') ) & propiedades.operation.str.contains('sell') , ['created_on','operation', 'property_type', 'state_name', 'place_name', 'lat', 'lon', 'price', 'surface_total_in_m2', 'surface_covered_in_m2', 'price_usd_per_m2', 'description']]\n",
    "propiedadesCapGBA = propiedadesCapGBA.loc[propiedadesCapGBA['place_name'] != 'Capital Federal', :]"
   ]
  },
  {
   "cell_type": "code",
   "execution_count": 7,
   "metadata": {
    "collapsed": true
   },
   "outputs": [],
   "source": [
    "#Filtro los datos cuyo precio por mt2 sea menor que 10000 y mayor a 100\n",
    "propiedadesMenor10K = propiedadesCapGBA.loc[propiedadesCapGBA['price_usd_per_m2'] > 100, :].loc[propiedadesCapGBA['price_usd_per_m2'] < 10000,:]"
   ]
  },
  {
   "cell_type": "code",
   "execution_count": 8,
   "metadata": {
    "collapsed": true
   },
   "outputs": [],
   "source": [
    "#Filtro los registros que no tienen latitud ni longitud.\n",
    "propiedadesMenor10K = propiedadesMenor10K.loc[propiedadesMenor10K['lat'].notnull() & propiedadesMenor10K['lat'].notnull(), :]"
   ]
  },
  {
   "cell_type": "code",
   "execution_count": 9,
   "metadata": {
    "collapsed": true
   },
   "outputs": [],
   "source": [
    "#Quiero ver la media y la mediana del mt2 en usd por barrio como tmb la cantidad de propiedades en cada barrio.\n",
    "groupbyPlace = propiedadesMenor10K[['place_name', 'price_usd_per_m2']].groupby('place_name', as_index = False)['price_usd_per_m2']\\\n",
    ".agg({'media_por_barrio': np.mean, 'mediana_por_barrio': np.median, 'cant_prop': np.size})\n",
    "groupbyPlace = groupbyPlace.loc[groupbyPlace['cant_prop'] > 4, :]\n",
    "\n",
    "propiedadesPorBarrio = pd.merge(propiedadesMenor10K, groupbyPlace, on = 'place_name')"
   ]
  },
  {
   "cell_type": "code",
   "execution_count": 10,
   "metadata": {
    "collapsed": true
   },
   "outputs": [],
   "source": [
    "propiedadesPorBarrio = propiedadesPorBarrio.loc[propiedadesPorBarrio.surface_total_in_m2 <= 1000, :]"
   ]
  },
  {
   "cell_type": "code",
   "execution_count": 11,
   "metadata": {},
   "outputs": [
    {
     "data": {
      "text/plain": [
       "count    46017.000000\n",
       "mean       151.593781\n",
       "std        162.753295\n",
       "min         10.000000\n",
       "25%         50.000000\n",
       "50%         84.000000\n",
       "75%        196.000000\n",
       "max       1000.000000\n",
       "Name: surface_total_in_m2, dtype: float64"
      ]
     },
     "execution_count": 11,
     "metadata": {},
     "output_type": "execute_result"
    }
   ],
   "source": [
    "propiedadesPorBarrio['surface_total_in_m2'].describe()"
   ]
  },
  {
   "cell_type": "markdown",
   "metadata": {
    "collapsed": true
   },
   "source": [
    "\n",
    "\n",
    "\n",
    "## Analisis de  la relacion entre el precio por m2 y la superficie total de la propiedad"
   ]
  },
  {
   "cell_type": "code",
   "execution_count": 12,
   "metadata": {
    "scrolled": true
   },
   "outputs": [
    {
     "data": {
      "text/html": [
       "<div>\n",
       "<style>\n",
       "    .dataframe thead tr:only-child th {\n",
       "        text-align: right;\n",
       "    }\n",
       "\n",
       "    .dataframe thead th {\n",
       "        text-align: left;\n",
       "    }\n",
       "\n",
       "    .dataframe tbody tr th {\n",
       "        vertical-align: top;\n",
       "    }\n",
       "</style>\n",
       "<table border=\"1\" class=\"dataframe\">\n",
       "  <thead>\n",
       "    <tr style=\"text-align: right;\">\n",
       "      <th></th>\n",
       "      <th>mean</th>\n",
       "      <th>median</th>\n",
       "      <th>size</th>\n",
       "    </tr>\n",
       "    <tr>\n",
       "      <th>surface_total_in_m2</th>\n",
       "      <th></th>\n",
       "      <th></th>\n",
       "      <th></th>\n",
       "    </tr>\n",
       "  </thead>\n",
       "  <tbody>\n",
       "    <tr>\n",
       "      <th>(0, 100]</th>\n",
       "      <td>2295.132021</td>\n",
       "      <td>2166.666667</td>\n",
       "      <td>26097</td>\n",
       "    </tr>\n",
       "    <tr>\n",
       "      <th>(100, 200]</th>\n",
       "      <td>2111.263947</td>\n",
       "      <td>1788.804356</td>\n",
       "      <td>9166</td>\n",
       "    </tr>\n",
       "    <tr>\n",
       "      <th>(200, 300]</th>\n",
       "      <td>1630.663168</td>\n",
       "      <td>1260.686883</td>\n",
       "      <td>5016</td>\n",
       "    </tr>\n",
       "    <tr>\n",
       "      <th>(300, 400]</th>\n",
       "      <td>1382.642545</td>\n",
       "      <td>1014.605544</td>\n",
       "      <td>2478</td>\n",
       "    </tr>\n",
       "    <tr>\n",
       "      <th>(400, 500]</th>\n",
       "      <td>1354.791417</td>\n",
       "      <td>940.000000</td>\n",
       "      <td>1222</td>\n",
       "    </tr>\n",
       "    <tr>\n",
       "      <th>(500, 600]</th>\n",
       "      <td>1089.809137</td>\n",
       "      <td>687.964841</td>\n",
       "      <td>634</td>\n",
       "    </tr>\n",
       "    <tr>\n",
       "      <th>(600, 700]</th>\n",
       "      <td>1003.368900</td>\n",
       "      <td>625.000000</td>\n",
       "      <td>413</td>\n",
       "    </tr>\n",
       "    <tr>\n",
       "      <th>(700, 800]</th>\n",
       "      <td>680.776104</td>\n",
       "      <td>415.584416</td>\n",
       "      <td>406</td>\n",
       "    </tr>\n",
       "    <tr>\n",
       "      <th>(800, 900]</th>\n",
       "      <td>595.955327</td>\n",
       "      <td>415.700307</td>\n",
       "      <td>332</td>\n",
       "    </tr>\n",
       "    <tr>\n",
       "      <th>(900, 1000]</th>\n",
       "      <td>696.343950</td>\n",
       "      <td>390.000000</td>\n",
       "      <td>253</td>\n",
       "    </tr>\n",
       "  </tbody>\n",
       "</table>\n",
       "</div>"
      ],
      "text/plain": [
       "                            mean       median   size\n",
       "surface_total_in_m2                                 \n",
       "(0, 100]             2295.132021  2166.666667  26097\n",
       "(100, 200]           2111.263947  1788.804356   9166\n",
       "(200, 300]           1630.663168  1260.686883   5016\n",
       "(300, 400]           1382.642545  1014.605544   2478\n",
       "(400, 500]           1354.791417   940.000000   1222\n",
       "(500, 600]           1089.809137   687.964841    634\n",
       "(600, 700]           1003.368900   625.000000    413\n",
       "(700, 800]            680.776104   415.584416    406\n",
       "(800, 900]            595.955327   415.700307    332\n",
       "(900, 1000]           696.343950   390.000000    253"
      ]
     },
     "execution_count": 12,
     "metadata": {},
     "output_type": "execute_result"
    }
   ],
   "source": [
    "groupbySurface = propiedadesPorBarrio.groupby(pd.cut(propiedadesPorBarrio['surface_total_in_m2'], range(0, 1001, 100)), as_index= False)\n",
    "groupbySurface['price_usd_per_m2'].agg(['mean','median' ,'size'])\n",
    "\n",
    "#Se puede ver claramente que el precio por m2 no esta relacionado con la cantidad de mt2 que tenga la propiedad."
   ]
  },
  {
   "cell_type": "code",
   "execution_count": 13,
   "metadata": {
    "collapsed": true
   },
   "outputs": [],
   "source": [
    "#Determino si el precio por mt2 esta determinado por los mt2 de la propiedad.\n",
    "#Para eso veo la relacion Departamentos vs Casas"
   ]
  },
  {
   "cell_type": "code",
   "execution_count": 14,
   "metadata": {
    "scrolled": false
   },
   "outputs": [
    {
     "data": {
      "text/plain": [
       "<matplotlib.text.Text at 0x7f55599ab6d0>"
      ]
     },
     "execution_count": 14,
     "metadata": {},
     "output_type": "execute_result"
    },
    {
     "data": {
      "image/png": "[encoded data removed]",
      "text/plain": [
       "<matplotlib.figure.Figure at 0x7f555e076690>"
      ]
     },
     "metadata": {},
     "output_type": "display_data"
    }
   ],
   "source": [
    "#Vemos los barrios que tienen mayor cantidad de ventas y lo utilizo para saber que tipo de propiedad se vendio mas\n",
    "ventasPorBarrio = propiedadesPorBarrio.groupby('place_name')\n",
    "ventasPorBarrioTop5 = ventasPorBarrio['created_on'].count().sort_values(ascending = False).head(4)\n",
    "ventasPorBarrioTop5.plot(kind = 'bar', figsize= (12, 8))\n",
    "\n",
    "plt.ylabel('Cantidad de propiedades', fontsize = 12);\n",
    "plt.xlabel('Barrios', fontsize = 12);\n",
    "plt.title('BARRIOS CON MAYOR CANTIDAD DE VENTAS')"
   ]
  },
  {
   "cell_type": "code",
   "execution_count": 15,
   "metadata": {},
   "outputs": [
    {
     "data": {
      "image/png": "[encoded data removed]",
      "text/plain": [
       "<matplotlib.figure.Figure at 0x7f5563431290>"
      ]
     },
     "metadata": {},
     "output_type": "display_data"
    }
   ],
   "source": [
    "#Vemos que tipo de propiedad se vendio mas en los barrios con mayores ventas\n",
    "dataTipoProp = [ventasPorBarrio.get_group('Palermo'), ventasPorBarrio.get_group('Belgrano'), ventasPorBarrio.get_group('Caballito'), ventasPorBarrio.get_group('Tigre')]\n",
    "dataNombres = ['Palermo', 'Belgrano', 'Caballito', 'Tigre']\n",
    "nombres = ['Departamento', 'Casa']\n",
    "\n",
    "plt.figure(figsize=(15, 18));\n",
    "\n",
    "for i in range(len(dataTipoProp)):\n",
    "    tam = []\n",
    "    tam.append(dataTipoProp[i].loc[dataTipoProp[i]['property_type'] == 'apartment', :]['created_on'].count())\n",
    "    tam.append(dataTipoProp[i].loc[dataTipoProp[i]['property_type'] == 'house', :]['created_on'].count()) \n",
    "    \n",
    "    ax = plt.subplot(321 + i );\n",
    "    plt.pie(tam, labels = nombres, autopct='%1.1f%%', startangle = 20, colors=['red', 'yellow'], explode=(0.1, 0))\n",
    "    plt.title('Departamentos vs Casas en  ' + dataNombres[i], fontsize = 20);\n",
    "   "
   ]
  },
  {
   "cell_type": "code",
   "execution_count": 16,
   "metadata": {},
   "outputs": [
    {
     "data": {
      "text/plain": [
       "<matplotlib.legend.Legend at 0x7f55634f4f90>"
      ]
     },
     "execution_count": 16,
     "metadata": {},
     "output_type": "execute_result"
    },
    {
     "data": {
      "image/png": "[encoded data removed]",
      "text/plain": [
       "<matplotlib.figure.Figure at 0x7f5563190a50>"
      ]
     },
     "metadata": {},
     "output_type": "display_data"
    }
   ],
   "source": [
    "#Vemos que propiedad posee en promedio un mayor precio por m2 \n",
    "deptosMean = []\n",
    "casasMean = []\n",
    "\n",
    "plt.figure(figsize=(15, 10));\n",
    "\n",
    "for i in range(len(dataTipoProp)):\n",
    "    deptosMean.append(dataTipoProp[i].loc[dataTipoProp[i]['property_type'] == 'apartment', :]['price_usd_per_m2'].mean())\n",
    "    casasMean.append(dataTipoProp[i].loc[dataTipoProp[i]['property_type'] == 'house', :]['price_usd_per_m2'].mean())\n",
    "\n",
    "x = np.arange(4)\n",
    "plt.bar(x, deptosMean, color = 'red', width=0.25 );\n",
    "plt.bar(x + 0.25, casasMean, color ='green',  width=0.25 );\n",
    "plt.xticks(x + 0.125, dataNombres, size = 'medium')\n",
    "plt.title('PRECIO POR METRO CUADRADO PROMEDIO DE DEPARTAMENTO VS CASA', fontsize = 20)\n",
    "plt.xlabel('Barrios', fontsize = 18)\n",
    "plt.ylabel('precio por metro cuadrado promedio', fontsize = 18)\n",
    "plt.legend(nombres)\n"
   ]
  },
  {
   "cell_type": "markdown",
   "metadata": {},
   "source": [
    "### Se puede ver claramente que en los barrios con mayores ventas, la propiedad que predomina son los departamentos y en dichos barrios el precio por m2 de los mismos es superior al de las otras propiedades"
   ]
  },
  {
   "cell_type": "code",
   "execution_count": 17,
   "metadata": {
    "collapsed": true
   },
   "outputs": [],
   "source": [
    "#Ahora analizo para los barrios donde predominan las casas sobre los departamentos\n",
    "#Filtro para eliminar los Store y quedarme solo con casas y departamentos\n",
    "dataSoloCasasyDeptos = propiedadesPorBarrio.loc[(propiedadesPorBarrio['property_type'] == 'house') | (propiedadesPorBarrio['property_type'] == 'apartment'), :]\n",
    "dataSoloCasasyDeptosBarrios = dataSoloCasasyDeptos.loc[dataSoloCasasyDeptos['place_name'].notnull(),:]\n",
    "listaBarrios = dataSoloCasasyDeptosBarrios.loc[:,'place_name'].drop_duplicates().tolist()"
   ]
  },
  {
   "cell_type": "code",
   "execution_count": 18,
   "metadata": {
    "collapsed": true,
    "scrolled": true
   },
   "outputs": [],
   "source": [
    "#Veamos cuales son los barrios que tienen una diferencia entre la cantidad de casas y departamentos de mas de 10 unidades.\n",
    "from heapq import heappush, nlargest\n",
    "\n",
    "ventasPorBarrio = dataSoloCasasyDeptos.groupby('place_name')\n",
    "barriosMayorCasasQueDeptos = []\n",
    "nombres = ['Departamento', 'Casa']\n",
    "\n",
    "for i in range(len(listaBarrios)):\n",
    "    tam = []\n",
    "    barrio = ventasPorBarrio.get_group(listaBarrios[i])\n",
    "    tam.append(barrio.loc[barrio['property_type'] == 'apartment', :]['created_on'].count())\n",
    "    tam.append(barrio.loc[barrio['property_type'] == 'house', :]['created_on'].count())\n",
    "    diff = tam[1] - tam[0] #diferencia entre la cantidad casas y departamentos\n",
    "    if (diff > 10):\n",
    "        barriosMayorCasasQueDeptos.append((listaBarrios[i], tam, barrio, diff))\n",
    "\n",
    "#Se eligen los 5 barrios con mayor diferencia entre la cantidad de casas y deptos\n",
    "dataCasasMayorDeptos = list(map(lambda x: (x[0], x[1], x[2]), nlargest(4, barriosMayorCasasQueDeptos, key = lambda x: x[3]))) "
   ]
  },
  {
   "cell_type": "code",
   "execution_count": 19,
   "metadata": {},
   "outputs": [
    {
     "ename": "UnicodeDecodeError",
     "evalue": "'ascii' codec can't decode byte 0xc3 in position 35: ordinal not in range(128)",
     "output_type": "error",
     "traceback": [
      "\u001b[0;31m---------------------------------------------------------------------------\u001b[0m",
      "\u001b[0;31mUnicodeDecodeError\u001b[0m                        Traceback (most recent call last)",
      "\u001b[0;32m<ipython-input-19-a1cfe9dfaf4b>\u001b[0m in \u001b[0;36m<module>\u001b[0;34m()\u001b[0m\n\u001b[1;32m     13\u001b[0m     \u001b[0max\u001b[0m \u001b[0;34m=\u001b[0m \u001b[0mplt\u001b[0m\u001b[0;34m.\u001b[0m\u001b[0msubplot\u001b[0m\u001b[0;34m(\u001b[0m\u001b[0;36m321\u001b[0m \u001b[0;34m+\u001b[0m \u001b[0mi\u001b[0m \u001b[0;34m)\u001b[0m\u001b[0;34m;\u001b[0m\u001b[0;34m\u001b[0m\u001b[0m\n\u001b[1;32m     14\u001b[0m     \u001b[0mplt\u001b[0m\u001b[0;34m.\u001b[0m\u001b[0mpie\u001b[0m\u001b[0;34m(\u001b[0m\u001b[0mdataCasasMayorDeptos\u001b[0m\u001b[0;34m[\u001b[0m\u001b[0mi\u001b[0m\u001b[0;34m]\u001b[0m\u001b[0;34m[\u001b[0m\u001b[0;36m1\u001b[0m\u001b[0;34m]\u001b[0m\u001b[0;34m,\u001b[0m \u001b[0mlabels\u001b[0m \u001b[0;34m=\u001b[0m \u001b[0mnombres\u001b[0m\u001b[0;34m,\u001b[0m \u001b[0mautopct\u001b[0m\u001b[0;34m=\u001b[0m\u001b[0;34m'%1.1f%%'\u001b[0m\u001b[0;34m,\u001b[0m \u001b[0mstartangle\u001b[0m \u001b[0;34m=\u001b[0m \u001b[0;36m20\u001b[0m\u001b[0;34m,\u001b[0m \u001b[0mcolors\u001b[0m\u001b[0;34m=\u001b[0m\u001b[0;34m[\u001b[0m\u001b[0;34m'red'\u001b[0m\u001b[0;34m,\u001b[0m \u001b[0;34m'yellow'\u001b[0m\u001b[0;34m]\u001b[0m\u001b[0;34m,\u001b[0m \u001b[0mexplode\u001b[0m\u001b[0;34m=\u001b[0m\u001b[0;34m(\u001b[0m\u001b[0;36m0.1\u001b[0m\u001b[0;34m,\u001b[0m \u001b[0;36m0\u001b[0m\u001b[0;34m)\u001b[0m\u001b[0;34m)\u001b[0m\u001b[0;34m\u001b[0m\u001b[0m\n\u001b[0;32m---> 15\u001b[0;31m     \u001b[0mplt\u001b[0m\u001b[0;34m.\u001b[0m\u001b[0mtitle\u001b[0m\u001b[0;34m(\u001b[0m\u001b[0;34m'Departamentos vs Casas en  '\u001b[0m \u001b[0;34m+\u001b[0m \u001b[0mdataCasasMayorDeptos\u001b[0m\u001b[0;34m[\u001b[0m\u001b[0mi\u001b[0m\u001b[0;34m]\u001b[0m\u001b[0;34m[\u001b[0m\u001b[0;36m0\u001b[0m\u001b[0;34m]\u001b[0m\u001b[0;34m,\u001b[0m \u001b[0mfontsize\u001b[0m \u001b[0;34m=\u001b[0m \u001b[0;36m20\u001b[0m\u001b[0;34m)\u001b[0m\u001b[0;34m;\u001b[0m\u001b[0;34m\u001b[0m\u001b[0m\n\u001b[0m",
      "\u001b[0;32m/home/martin/Documents/OrgaDeDatos/anaconda2/lib/python2.7/site-packages/matplotlib/pyplot.pyc\u001b[0m in \u001b[0;36mtitle\u001b[0;34m(s, *args, **kwargs)\u001b[0m\n\u001b[1;32m   1463\u001b[0m \u001b[0;34m\u001b[0m\u001b[0m\n\u001b[1;32m   1464\u001b[0m     \"\"\"\n\u001b[0;32m-> 1465\u001b[0;31m     \u001b[0;32mreturn\u001b[0m \u001b[0mgca\u001b[0m\u001b[0;34m(\u001b[0m\u001b[0;34m)\u001b[0m\u001b[0;34m.\u001b[0m\u001b[0mset_title\u001b[0m\u001b[0;34m(\u001b[0m\u001b[0ms\u001b[0m\u001b[0;34m,\u001b[0m \u001b[0;34m*\u001b[0m\u001b[0margs\u001b[0m\u001b[0;34m,\u001b[0m \u001b[0;34m**\u001b[0m\u001b[0mkwargs\u001b[0m\u001b[0;34m)\u001b[0m\u001b[0;34m\u001b[0m\u001b[0m\n\u001b[0m\u001b[1;32m   1466\u001b[0m \u001b[0;34m\u001b[0m\u001b[0m\n\u001b[1;32m   1467\u001b[0m \u001b[0;31m## Axis ##\u001b[0m\u001b[0;34m\u001b[0m\u001b[0;34m\u001b[0m\u001b[0m\n",
      "\u001b[0;32m/home/martin/Documents/OrgaDeDatos/anaconda2/lib/python2.7/site-packages/matplotlib/axes/_axes.pyc\u001b[0m in \u001b[0;36mset_title\u001b[0;34m(self, label, fontdict, loc, **kwargs)\u001b[0m\n\u001b[1;32m    184\u001b[0m             \u001b[0;34m'verticalalignment'\u001b[0m\u001b[0;34m:\u001b[0m \u001b[0;34m'baseline'\u001b[0m\u001b[0;34m,\u001b[0m\u001b[0;34m\u001b[0m\u001b[0m\n\u001b[1;32m    185\u001b[0m             'horizontalalignment': loc.lower()}\n\u001b[0;32m--> 186\u001b[0;31m         \u001b[0mtitle\u001b[0m\u001b[0;34m.\u001b[0m\u001b[0mset_text\u001b[0m\u001b[0;34m(\u001b[0m\u001b[0mlabel\u001b[0m\u001b[0;34m)\u001b[0m\u001b[0;34m\u001b[0m\u001b[0m\n\u001b[0m\u001b[1;32m    187\u001b[0m         \u001b[0mtitle\u001b[0m\u001b[0;34m.\u001b[0m\u001b[0mupdate\u001b[0m\u001b[0;34m(\u001b[0m\u001b[0mdefault\u001b[0m\u001b[0;34m)\u001b[0m\u001b[0;34m\u001b[0m\u001b[0m\n\u001b[1;32m    188\u001b[0m         \u001b[0;32mif\u001b[0m \u001b[0mfontdict\u001b[0m \u001b[0;32mis\u001b[0m \u001b[0;32mnot\u001b[0m \u001b[0mNone\u001b[0m\u001b[0;34m:\u001b[0m\u001b[0;34m\u001b[0m\u001b[0m\n",
      "\u001b[0;32m/home/martin/Documents/OrgaDeDatos/anaconda2/lib/python2.7/site-packages/matplotlib/text.pyc\u001b[0m in \u001b[0;36mset_text\u001b[0;34m(self, s)\u001b[0m\n\u001b[1;32m   1210\u001b[0m         \u001b[0mACCEPTS\u001b[0m\u001b[0;34m:\u001b[0m \u001b[0mstring\u001b[0m \u001b[0;32mor\u001b[0m \u001b[0manything\u001b[0m \u001b[0mprintable\u001b[0m \u001b[0;32mwith\u001b[0m \u001b[0;34m'%s'\u001b[0m \u001b[0mconversion\u001b[0m\u001b[0;34m.\u001b[0m\u001b[0;34m\u001b[0m\u001b[0m\n\u001b[1;32m   1211\u001b[0m         \"\"\"\n\u001b[0;32m-> 1212\u001b[0;31m         \u001b[0mself\u001b[0m\u001b[0;34m.\u001b[0m\u001b[0m_text\u001b[0m \u001b[0;34m=\u001b[0m \u001b[0;34m'%s'\u001b[0m \u001b[0;34m%\u001b[0m \u001b[0;34m(\u001b[0m\u001b[0ms\u001b[0m\u001b[0;34m,\u001b[0m\u001b[0;34m)\u001b[0m\u001b[0;34m\u001b[0m\u001b[0m\n\u001b[0m\u001b[1;32m   1213\u001b[0m         \u001b[0mself\u001b[0m\u001b[0;34m.\u001b[0m\u001b[0mstale\u001b[0m \u001b[0;34m=\u001b[0m \u001b[0mTrue\u001b[0m\u001b[0;34m\u001b[0m\u001b[0m\n\u001b[1;32m   1214\u001b[0m \u001b[0;34m\u001b[0m\u001b[0m\n",
      "\u001b[0;31mUnicodeDecodeError\u001b[0m: 'ascii' codec can't decode byte 0xc3 in position 35: ordinal not in range(128)"
     ]
    },
    {
     "data": {
      "image/png": "[encoded data removed]",
      "text/plain": [
       "<matplotlib.figure.Figure at 0x7f555a4165d0>"
      ]
     },
     "metadata": {},
     "output_type": "display_data"
    }
   ],
   "source": [
    "deptosMean = []\n",
    "casasMean = []\n",
    "dataNombres = []\n",
    "\n",
    "plt.figure(figsize=(15, 18));\n",
    "\n",
    "for i in range(len(dataCasasMayorDeptos)):\n",
    "    barrio = dataCasasMayorDeptos[i][2]\n",
    "    deptosMean.append(barrio.loc[barrio['property_type'] == 'apartment', :]['price_usd_per_m2'].mean())\n",
    "    casasMean.append(barrio.loc[barrio['property_type'] == 'house', :]['price_usd_per_m2'].mean())\n",
    "    dataNombres.append(dataCasasMayorDeptos[i][0])\n",
    "    \n",
    "    ax = plt.subplot(321 + i );\n",
    "    plt.pie(dataCasasMayorDeptos[i][1], labels = nombres, autopct='%1.1f%%', startangle = 20, colors=['red', 'yellow'], explode=(0.1, 0))\n",
    "    plt.title('Departamentos vs Casas en  ' + dataCasasMayorDeptos[i][0], fontsize = 20);\n"
   ]
  },
  {
   "cell_type": "code",
   "execution_count": null,
   "metadata": {},
   "outputs": [],
   "source": [
    "plt.figure(figsize=(15, 18));\n",
    "x = np.arange(4)\n",
    "plt.bar(x, deptosMean, color = 'red', width=0.25 );\n",
    "plt.bar(x + 0.25, casasMean, color ='green',  width=0.25 );\n",
    "plt.xticks(x + 0.125, dataNombres, size = 'medium')\n",
    "plt.title('PRECIO POR METRO CUADRADO PROMEDIO DE DEPARTAMENTO VS CASA', fontsize = 20, color = 'blue')\n",
    "plt.xlabel('Barrios', fontsize = 18)\n",
    "plt.ylabel('precio por metro cuadrado promedio', fontsize = 18)\n",
    "plt.legend(nombres)"
   ]
  },
  {
   "cell_type": "markdown",
   "metadata": {},
   "source": [
    "### Conclusion: el precio por m2 de los departamentos es mayor al de las casas y esto no solo pasa en los barrios en el que predominan los departamentos sino tambien en aquellos barrios en los cuales hay mayor cantidad de casas. Esto se debe a que hay una mayor demanda de departamentos que de cualquier otro tipo de propiedad y esto es justamente lo que aumenta su precio con respecto a las demas."
   ]
  },
  {
   "cell_type": "markdown",
   "metadata": {},
   "source": [
    "### Analizo el crecimiento en las ventas de departamentos de los ultimos 2 anios."
   ]
  },
  {
   "cell_type": "code",
   "execution_count": null,
   "metadata": {},
   "outputs": [],
   "source": [
    "#Cantidad de departamentos publicados en 2017\n",
    "deptos2017 = propiedadesPorBarrio.loc[(propiedadesPorBarrio.created_on.dt.year == 2017) & (propiedadesPorBarrio.property_type == 'apartment'), :]\n",
    "deptos2017['created_on'].count()"
   ]
  },
  {
   "cell_type": "code",
   "execution_count": null,
   "metadata": {},
   "outputs": [],
   "source": [
    "#Cantidad de departamentos publicados en 2016\n",
    "deptos2016 = propiedadesPorBarrio.loc[(propiedadesPorBarrio.created_on.dt.year == 2016) & (propiedadesPorBarrio.property_type == 'apartment'), :]\n",
    "deptos2016['created_on'].count()"
   ]
  },
  {
   "cell_type": "code",
   "execution_count": null,
   "metadata": {},
   "outputs": [],
   "source": [
    "#Cantidad de departamentos publicados en 2015\n",
    "deptos2015 = propiedadesPorBarrio.loc[(propiedadesPorBarrio.created_on.dt.year == 2015) & (propiedadesPorBarrio.property_type == 'apartment'), :]\n",
    "deptos2015['created_on'].count()"
   ]
  },
  {
   "cell_type": "markdown",
   "metadata": {
    "collapsed": true
   },
   "source": [
    "# VENTAS EN LOS BARRIOS "
   ]
  },
  {
   "cell_type": "code",
   "execution_count": null,
   "metadata": {
    "scrolled": false
   },
   "outputs": [],
   "source": [
    "#Veo cuales son los barrios que obtuvieron la mayor cantidad de ventas en los ultimos 4 anios\n",
    "\n",
    "barrios2017 = propiedadesPorBarrio[propiedadesPorBarrio.created_on.dt.year == 2017]\n",
    "barrios2016 = propiedadesPorBarrio[propiedadesPorBarrio.created_on.dt.year == 2016]\n",
    "barrios2015 = propiedadesPorBarrio[propiedadesPorBarrio.created_on.dt.year == 2015]\n",
    "barrios2014 = propiedadesPorBarrio[propiedadesPorBarrio.created_on.dt.year == 2014]\n",
    "\n",
    "barrios = [barrios2014, barrios2015, barrios2016, barrios2017]\n",
    "barrios_anios = ['2014', '2015', '2016', '2017']\n",
    "\n",
    "plt.figure(figsize=(15, 23));\n",
    "\n",
    "for i in range(len(barrios)):\n",
    "    barrios[i] = barrios[i].groupby('place_name')['cant_prop'].count().sort_values(ascending=False)\n",
    "    \n",
    "    ax = plt.subplot(411 + i );\n",
    "    ax.set_xlim([0, 2000]);\n",
    "\n",
    "    plt.grid(True);\n",
    "    plt.title('Barrios con mayores ventas en el ' + barrios_anios[i], fontsize = 20);\n",
    "    plt.xlabel('Cantidad de propiedades', fontsize = 15);\n",
    "    plt.ylabel('Barrios', fontsize = 15);\n",
    "    ax.barh([j for j in range(5)], [valor for valor in barrios[i][:5].values], \n",
    "            tick_label=[viaje for viaje in barrios[i][:5].index.values]);\n",
    "plt.tight_layout();\n"
   ]
  },
  {
   "cell_type": "code",
   "execution_count": null,
   "metadata": {},
   "outputs": [],
   "source": [
    "#Ventas realizadas durante el transcurso del 2017\n",
    "dias2017 = barrios2017.groupby('created_on')['cant_prop'].count()\n",
    "\n",
    "dias2017.plot.line(figsize=(15,10), color ='green', fontsize=15)\n",
    "plt.xticks(size = 'medium', color = 'b',rotation = 45); \n",
    "plt.grid(True);\n",
    "plt.minorticks_on();\n",
    "plt.title(u'CANTIDAD DE VENTAS EN EL 2017', fontsize = 20, color = 'blue')  \n",
    "plt.ylabel('Cantidad de propiedades', fontsize = 15);\n",
    "plt.xlabel('Meses', fontsize = 15);\n",
    "plt.legend('');"
   ]
  },
  {
   "cell_type": "code",
   "execution_count": null,
   "metadata": {},
   "outputs": [],
   "source": [
    "#Ventas realizadas durante el transcurso del 2016\n",
    "\n",
    "dias2016 = barrios2016.groupby('created_on')['cant_prop'].count()\n",
    "\n",
    "dias2016.plot.line(figsize=(15,10), color ='green', fontsize=15)\n",
    "plt.xticks(size = 'medium', color = 'b',rotation = 45); \n",
    "plt.grid(True);\n",
    "plt.minorticks_on();\n",
    "plt.title(u'CANTIDAD DE VENTAS EN EL ANIO 2016', fontsize = 20, color = 'blue')\n",
    "plt.ylabel('Cantidad de propiedades', fontsize = 15);\n",
    "plt.xlabel('Meses', fontsize = 15);\n",
    "plt.legend('');"
   ]
  },
  {
   "cell_type": "code",
   "execution_count": null,
   "metadata": {},
   "outputs": [],
   "source": [
    "#Ventas realizadas durante el transcurso del 2015\n",
    "dias2015 = barrios2015.groupby('created_on')['cant_prop'].count()\n",
    "\n",
    "dias2015.plot.line(figsize=(15,10), color ='green', fontsize=15)\n",
    "plt.xticks(size = 'medium', color = 'b',rotation = 45); \n",
    "plt.grid(True);\n",
    "plt.minorticks_on();\n",
    "plt.title(u'CANTIDAD DE VENTAS EN EL ANIO 2015', fontsize = 20, color = 'blue')  # Colocamos el título del gráfico\n",
    "plt.ylabel('Cantidad de propiedades', fontsize = 15);\n",
    "plt.xlabel('Meses', fontsize = 15);\n",
    "plt.legend('');"
   ]
  },
  {
   "cell_type": "code",
   "execution_count": null,
   "metadata": {
    "scrolled": false
   },
   "outputs": [],
   "source": [
    "#Ventas realizadas durante el transcurso del 2014\n",
    "dias2014 = barrios2014.groupby('created_on')['cant_prop'].count()\n",
    "\n",
    "dias2014.plot.line(figsize=(15,10), color ='green', fontsize=15)\n",
    "plt.xticks(size = 'medium', color = 'b',rotation = 45); \n",
    "plt.grid(True);\n",
    "plt.minorticks_on();\n",
    "plt.title(u'CANTIDAD DE VENTAS EN EL ANIO 2014', fontsize = 20, color = 'blue')  \n",
    "plt.ylabel('Cantidad de propiedades', fontsize = 15);\n",
    "plt.xlabel('Meses', fontsize = 15);\n",
    "plt.legend('');"
   ]
  },
  {
   "cell_type": "markdown",
   "metadata": {
    "collapsed": true
   },
   "source": [
    "# Relacion entre la localizacion de la propiedad y su precio por m2"
   ]
  },
  {
   "cell_type": "code",
   "execution_count": null,
   "metadata": {
    "collapsed": true
   },
   "outputs": [],
   "source": [
    "#Funcion para calcular distancias entre coordenadas (lat, lon)\n",
    "from math import sin,cos,sqrt,asin,pi\n",
    "\n",
    "#Formula del Harvesine sacada de\n",
    "#https://joseguerreroa.wordpress.com/2012/11/13/distancia-entre-dos-puntos-de-la-superficie-terrestre-mediante-la-formula-de-haversine-con-python/\n",
    "#coord = (lat, long)\n",
    "def distancia(coord1, coord2):\n",
    "    rTierra = 6374000 #metros\n",
    "    c = pi/180 #para pasar a raddianes\n",
    "    d = 2*rTierra*asin(sqrt(sin(c*(coord2[0]-coord1[0])/2)**2 + cos(c*coord1[0])*cos(c*coord2[0])*sin(c*(coord2[1]-coord1[1])/2)**2))\n",
    "    return d\n",
    "\n",
    "def obtener_geoPos(reg):\n",
    "    lat, lon = reg\n",
    "    return lat,lon"
   ]
  },
  {
   "cell_type": "code",
   "execution_count": null,
   "metadata": {
    "collapsed": true
   },
   "outputs": [],
   "source": [
    "#Obtengo la latitud y longitud en una tupla.\n",
    "propiedadesDistancia = propiedadesPorBarrio.copy(deep=True)\n",
    "propiedadesDistancia['geoPos'] = propiedadesDistancia.loc[:,['lat', 'lon']].apply(obtener_geoPos, axis = 1)"
   ]
  },
  {
   "cell_type": "markdown",
   "metadata": {},
   "source": [
    "### Analisis relacionado a la distancia al centro de la ciudad"
   ]
  },
  {
   "cell_type": "code",
   "execution_count": null,
   "metadata": {
    "collapsed": true
   },
   "outputs": [],
   "source": [
    "def obtener_distancia_al_centro(geoPos):\n",
    "    centro = (-34.608056,  -58.370278)# Se utilizo las coordenadas de la Casa Rosada\n",
    "    return distancia(geoPos, centro)"
   ]
  },
  {
   "cell_type": "code",
   "execution_count": null,
   "metadata": {
    "collapsed": true
   },
   "outputs": [],
   "source": [
    "#Obtengo las propiedades que se encuentren a menos de 64km del centro de la ciudad\n",
    "propiedadesDistanciaCentro = propiedadesDistancia.copy(deep = True)\n",
    "propiedadesDistanciaCentro.loc[:,'distancia_al_centro'] = propiedadesDistanciaCentro.loc[:, 'geoPos'].apply(obtener_distancia_al_centro)\n",
    "propiedadesDistanciaCentro = propiedadesDistanciaCentro.loc[propiedadesDistanciaCentro.distancia_al_centro < 64000, :]"
   ]
  },
  {
   "cell_type": "code",
   "execution_count": null,
   "metadata": {
    "scrolled": false
   },
   "outputs": [],
   "source": [
    "groupbyDistanciaCentro = propiedadesDistanciaCentro.groupby(pd.cut(propiedadesDistanciaCentro['distancia_al_centro'], range(0, 65000, 1000)), as_index= False)\n",
    "mediaPorDistanciaCentro = groupbyDistanciaCentro['price_usd_per_m2'].agg(['mean'])\n",
    "distKm = np.arange(groupbyDistanciaCentro.ngroups) + 1\n",
    "plt.figure(figsize=(16, 15));\n",
    "plt.bar(distKm, mediaPorDistanciaCentro['mean'], width= 0.8, color = 'purple')\n",
    "plt.xticks(distKm, size = 'medium')\n",
    "plt.title('Relacion entre el precio por mt2 promedio y la distancia al centro', fontsize = 25, color = 'Blue')\n",
    "plt.xlabel('Distancia al centro en kilometros', fontsize = 20)\n",
    "plt.ylabel('Precio por mt2 promedio', fontsize = 20)"
   ]
  },
  {
   "cell_type": "markdown",
   "metadata": {},
   "source": [
    "### Por lo general, el grafico demuestra una relacion inversamente proporcional entre la distancia al centro y el precio por m2 de la propiedad. Se puede ver tambien que hay una zona (desde 28 hasta 35 km) en la cual dicha relacion no se cumple , a continuacion se analizara dicho problema."
   ]
  },
  {
   "cell_type": "code",
   "execution_count": null,
   "metadata": {},
   "outputs": [],
   "source": [
    "#Analizo la zona, en la cual el grafico anterior presenta problemas.(28 a 35 km)\n",
    "zonaProblematica = propiedadesDistanciaCentro.loc[(propiedadesDistanciaCentro.distancia_al_centro < 35000) & (propiedadesDistanciaCentro.distancia_al_centro > 28000), :]\\\n",
    ".groupby('place_name')['price_usd_per_m2'].agg(['mean', 'size'])\n",
    "zonaProblematica.sort_values('size', ascending = False).head()\n"
   ]
  },
  {
   "cell_type": "markdown",
   "metadata": {},
   "source": [
    "### La mayoria de las casas en dicha zona son de Nordelta, el cual es uno de los barrios mas caros, y el cual claramente no se ve afectado por la distancia al centro de la ciudad.\n",
    "\n",
    "##### Su precio depende de otro factor. Acceso al Rio? Cercania al delta del Rio?\n"
   ]
  },
  {
   "cell_type": "markdown",
   "metadata": {},
   "source": [
    "### Analisis relacionado a la distancias a villas de emergencia"
   ]
  },
  {
   "cell_type": "code",
   "execution_count": null,
   "metadata": {
    "collapsed": true
   },
   "outputs": [],
   "source": [
    "#calcula la distancia en metros entre la propiedad y la villa Fuerte Apache. Recibe por parametro un registro\n",
    "def distanciaAFuerteApache(geoPos):\n",
    "      #Ubicacion\n",
    "    fuerteApache = (-34.622374, -58.539921) #Tomamos este como el punto central de la villa\n",
    "    return distancia(geoPos, fuerteApache)\n",
    "\n",
    "#calcula la distancia en metros entre la propiedad y la villa Carlos Gardel. Recibe por parametro un registro\n",
    "def distanciaACarlosGardel(geoPos):\n",
    "    #Ubicacion\n",
    "    carlosGardel = (-34.6244, -58.5778) #Tomamos este como el punto central de la villa\n",
    "    return distancia(geoPos, carlosGardel)\n",
    "\n",
    "#Informacion sacada de \n",
    "#http://blogs.monografias.com/estampas-de-buenos-aires/2015/05/21/las-villas-de-emergencia-en-la-ciudad/\n",
    "def distanciaAVillas(geoPos):\n",
    "    \n",
    "    Indoamericano = (-34.665202, -58.468526)# Se tomaron estas coordenadas ya que alrededor hay una gran cantidad de villas\n",
    "    return distancia(geoPos, Indoamericano)"
   ]
  },
  {
   "cell_type": "code",
   "execution_count": null,
   "metadata": {
    "collapsed": true
   },
   "outputs": [],
   "source": [
    "#Arrancamos con el analisis sobre la conglomeracion de villas.\n",
    "#Agregamos la distancia de las propiedades a la conglomeracion.\n",
    "propiedadesCercanasAIndoamericano = propiedadesDistancia.copy(deep = True)\n",
    "propiedadesCercanasAIndoamericano.loc[:, 'distanciaAIndoamericano'] = propiedadesCercanasAIndoamericano['geoPos'].apply(distanciaAVillas)"
   ]
  },
  {
   "cell_type": "code",
   "execution_count": null,
   "metadata": {},
   "outputs": [],
   "source": [
    "#vamos a comparar propiedades que estan entre 0mts a 4000mts de distancia.\n",
    "propiedadesCercanasAIndoamericano = propiedadesCercanasAIndoamericano.loc[propiedadesCercanasAIndoamericano['distanciaAIndoamericano'] < 4000, :]\n",
    "groupbyDistVillas = propiedadesCercanasAIndoamericano.groupby(pd.cut(propiedadesCercanasAIndoamericano['distanciaAIndoamericano'], range(0, 4001, 500)), as_index= False)\n",
    "mediaPrecioVilla = groupbyDistVillas['price_usd_per_m2'].agg(['mean'])\n",
    "distKm = (np.arange(groupbyDistVillas.ngroups) + 1)*0.5\n",
    "\n",
    "plt.figure(figsize=(15, 15));\n",
    "plt.bar(distKm, mediaPrecioVilla['mean'], width= 0.25, color = 'purple')\n",
    "plt.xticks(distKm, size = 'medium')\n",
    "plt.title('Relacion entre el precio por mt2 promedio y la distancia al Parque Indoamericano', fontsize = 22, color = 'Blue')\n",
    "plt.xlabel('Distancia a la villa en kilometros', fontsize = 20)\n",
    "plt.ylabel('Precio por mt2 promedio', fontsize = 20)"
   ]
  },
  {
   "cell_type": "markdown",
   "metadata": {},
   "source": [
    "### No se ve un tendencia clara cuando se analiza las propiedades mas cercanas. Apartir de los 3,5km se logra ver un aumento en el precio por m2, pero no es seguro determinar que el mismo se deba a la distancia a la concentracion de villas.Otros factores podrian estar influenciando ese cambio."
   ]
  },
  {
   "cell_type": "code",
   "execution_count": null,
   "metadata": {
    "collapsed": true
   },
   "outputs": [],
   "source": [
    "#Seguimos con el analisis, ahora con la villa Fuerte Apache\n",
    "propiedadesCercanasAFuerteApache = propiedadesDistancia.copy(deep = True)\n",
    "propiedadesCercanasAFuerteApache.loc[:, 'distanciaAFuerteApache'] = propiedadesCercanasAFuerteApache['geoPos'].apply(distanciaAFuerteApache)"
   ]
  },
  {
   "cell_type": "code",
   "execution_count": null,
   "metadata": {
    "scrolled": false
   },
   "outputs": [],
   "source": [
    "#vamos a comparar propiedades que estan entre 0mts a 4000mts de distancia.\n",
    "propiedadesCercanasAFuerteApache = propiedadesCercanasAFuerteApache.loc[propiedadesCercanasAFuerteApache['distanciaAFuerteApache'] < 4000, :]\n",
    "groupbyDistFuerteApache = propiedadesCercanasAFuerteApache.groupby(pd.cut(propiedadesCercanasAFuerteApache['distanciaAFuerteApache'], range(0, 4001, 500)), as_index= False)\n",
    "mediaPrecioFuerteApache = groupbyDistFuerteApache['price_usd_per_m2'].agg(['mean'])\n",
    "distKm = (np.arange(groupbyDistFuerteApache.ngroups) + 1)*0.5\n",
    "\n",
    "plt.figure(figsize=(15, 15));\n",
    "plt.bar(distKm, mediaPrecioFuerteApache['mean'], width= 0.25, color = 'purple')\n",
    "plt.xticks(distKm, size = 'medium')\n",
    "plt.title('Relacion entre el precio por mt2 promedio y la distancia a la Fuerte Apache', fontsize = 22, color = 'Blue')\n",
    "plt.xlabel('Distancia a la villa en kilometros', fontsize = 20)\n",
    "plt.ylabel('Precio por mt2 promedio', fontsize = 20)"
   ]
  },
  {
   "cell_type": "markdown",
   "metadata": {},
   "source": [
    "### En las cercanias de la villa Fuerte Apache se logra ver un notable descenso del precio por m2 de las propiedades. Tambien se percibe que el aumento en el precio es considerable mientras se acrecienta la distancia con respecto a la villa."
   ]
  },
  {
   "cell_type": "code",
   "execution_count": null,
   "metadata": {
    "collapsed": true
   },
   "outputs": [],
   "source": [
    "#Por ultimo, analizamos la villa Carlos Gardel\n",
    "propiedadesCercanasACarlosGardel = propiedadesDistancia.copy(deep = True)\n",
    "propiedadesCercanasACarlosGardel.loc[:, 'distanciaACarlosGardel'] = propiedadesCercanasACarlosGardel['geoPos'].apply(distanciaACarlosGardel)"
   ]
  },
  {
   "cell_type": "code",
   "execution_count": null,
   "metadata": {
    "scrolled": false
   },
   "outputs": [],
   "source": [
    "#vamos a comparar propiedades que estan entre 0mts a 4000mts de distancia.\n",
    "propiedadesCercanasACarlosGardel = propiedadesCercanasACarlosGardel.loc[propiedadesCercanasACarlosGardel['distanciaACarlosGardel'] < 4000, :]\n",
    "groupbyDistCarlosGardel = propiedadesCercanasACarlosGardel.groupby(pd.cut(propiedadesCercanasACarlosGardel['distanciaACarlosGardel'], range(0, 4001, 500)), as_index= False)\n",
    "mediaPrecioCarlosGardel = groupbyDistCarlosGardel['price_usd_per_m2'].agg(['mean'])\n",
    "distKm = (np.arange(groupbyDistCarlosGardel.ngroups) + 1)*0.5\n",
    "\n",
    "plt.figure(figsize=(15, 15));\n",
    "plt.bar(distKm, mediaPrecioCarlosGardel['mean'], width= 0.25, color = 'purple')\n",
    "plt.xticks(distKm, size = 'medium')\n",
    "plt.title('Relacion entre el precio por mt2 promedio y la distancia a la Carlos Gardel', fontsize = 22, color = 'Blue')\n",
    "plt.xlabel('Distancia a la villa en kilometros', fontsize = 20)\n",
    "plt.ylabel('Precio por mt2 promedio', fontsize = 20)"
   ]
  },
  {
   "cell_type": "markdown",
   "metadata": {},
   "source": [
    "### En las cercanias de la villa Carlos Gardel se logra ver un notable descenso del precio por m2 de las propiedades. Tambien se percibe que el aumento en el precio es considerable mientras se acrecienta la distancia con respecto a la villa."
   ]
  },
  {
   "cell_type": "markdown",
   "metadata": {},
   "source": [
    "### Con estos datos podemos asegurar que cuanto mayor sea la distancia a una villa de emergencia, el precio por m2 de las propiedades aumenta pero solo ocurre para la provincia de Buenos Aires porque esta mas alejada del centro de la ciudad. Las villas que se encuentren cerca del centro, tienen un menor impacto en el valor del m2."
   ]
  },
  {
   "cell_type": "markdown",
   "metadata": {
    "collapsed": true
   },
   "source": [
    "## Analisis de la relacion entre el precio por m2 y la cercania a estaciones de subtes."
   ]
  },
  {
   "cell_type": "code",
   "execution_count": null,
   "metadata": {
    "collapsed": true
   },
   "outputs": [],
   "source": [
    "#Coordenadas de todas las estaciones de subtes separada cada una por su respectiva linea\n",
    "def obtener_subtes_cercanos(geoPos):\n",
    "    lineaE = [(-34.609563795, -58.374052048), (-34.612989872, -58.377828598),(-34.618217016, -58.381583691), (-34.622366711, -58.385403156),\n",
    "              (-34.622455000, -58.391432762), (-34.623125994, -58.397119045), (-34.623867613, -58.402848244), (-34.624679854, -58.409628868),\n",
    "              (-34.625545060, -58.416645527), (-34.626798708, -58.426151276), (-34.628069994, -58.434305191), (-34.631618899, -58.442544937),\n",
    "              (-34.636385845, -58.450076580), (-34.639563657, -58.457865715), (-34.642829615, -58.461534977)]\n",
    "    \n",
    "    lineaA = [(-34.608557137, -58.374567032), (-34.609086958, -58.382549286), (-34.609404849, -58.386669159), (-34.609652097, -58.398342133),\n",
    "              (-34.609687418, -58.406839371), (-34.610782364, -58.415164948), (-34.615091365, -58.429327011), (-34.611736015, -58.421730995),\n",
    "              (-34.618022770, -58.435893059), (-34.620459643, -58.441429138), (-34.623567434, -58.448810577), (-34.626533854, -58.456192017)]\n",
    "    \n",
    "    lineaB = [(-34.602870174, -58.369545937), (-34.603294060, -58.374567032), (-34.604141827, -58.386712074), (-34.604530384, -58.392891884),\n",
    "              (-34.604530384, -58.399200439), (-34.604565707, -58.405079842), (-34.604106503, -58.411602974), (-34.603152765, -58.421001434),\n",
    "              (-34.602057719, -58.430914879), (-34.599055099, -58.439583778), (-34.591671724, -58.447651863), (-34.584111033, -58.466534615),\n",
    "              (-34.581567095, -58.473873138), (-34.573828804, -58.487434387)]\n",
    "    \n",
    "    lineaC = [(-34.590505868, -58.376069069), (-34.595522465, -58.377442360), (-34.602022395, -58.378129005), (-34.608980994, -58.380703926),\n",
    "              (-34.612407095, -58.380532265), (-34.618058088, -58.380274773), (-34.622331395, -58.379931450), (-34.627964055, -58.381175995)]\n",
    "    \n",
    "    lineaD = [(-34.607621111, -58.374266624), (-34.604336105, -58.380360603), (-34.601845773, -58.385360241), (-34.599426017, -58.392827511),\n",
    "              (-34.599531993, -58.397955894), (-34.594497974, -58.402633667), (-34.591636395, -58.407139778), (-34.588244767, -58.411281109),\n",
    "              (-34.585170985, -58.415830135), (-34.578440064, -58.426043987), (-34.575295247, -58.434326649), (-34.570242091, -58.444347382),\n",
    "              (-34.566125132, -58.452243805), (-34.562396722, -58.456299305), (-34.555982053, -58.462092876)]\n",
    "    \n",
    "    lineaH = [(-34.588138777, -58.398170471), (-34.598684179, -58.403813839), (-34.603700283, -58.405380249), (-34.608945673, -58.405938148),\n",
    "              (-34.615515189, -58.404779434), (-34.622896444, -58.402483463), (-34.629341261, -58.400981426), (-34.635255927, -58.399178982),\n",
    "              (-34.637515748, -58.405981064), (-34.641796880, -58.412622213)]\n",
    "    \n",
    "    subtes = lineaA + lineaB + lineaC + lineaD + lineaE + lineaH\n",
    "    cant_subtes_cercanos = 0\n",
    "    \n",
    "    for i in range(len(subtes)):\n",
    "        if (distancia(geoPos, subtes[i]) <= 700):\n",
    "            cant_subtes_cercanos += 1\n",
    "    return cant_subtes_cercanos\n",
    "    "
   ]
  },
  {
   "cell_type": "code",
   "execution_count": null,
   "metadata": {
    "collapsed": true
   },
   "outputs": [],
   "source": [
    "#Agregamos a cada propiedad, la cantidad de estaciones de subtes que se encuentren a 700mts o menos.\n",
    "propiedadesCercanasSubte = propiedadesDistancia.copy(deep = True)\n",
    "propiedadesCercanasSubte.loc[:,'cant_subtes_cercanos'] = propiedadesCercanasSubte['geoPos'].apply(obtener_subtes_cercanos)"
   ]
  },
  {
   "cell_type": "code",
   "execution_count": null,
   "metadata": {},
   "outputs": [],
   "source": [
    "#Las propiedades que tienen al menos una estacion de subte a 700m tienen en promedio mayor precio por m2\n",
    "groupbySubte = propiedadesCercanasSubte.groupby('cant_subtes_cercanos')\n",
    "mediaGroupbySubte = groupbySubte['price_usd_per_m2'].agg(['mean'])\n",
    "\n",
    "cant_estaciones = np.arange(groupbySubte.ngroups)\n",
    "\n",
    "plt.figure(figsize=(15, 15));\n",
    "plt.bar(cant_estaciones, mediaGroupbySubte['mean'], width= 0.25, color = 'darkorange')\n",
    "plt.xticks(cant_estaciones, size = 'medium')\n",
    "plt.title('Relacion entre el precio por mt2 promedio y la cantidad de estaciones de subte cercanas', fontsize = 22, color = 'Blue')\n",
    "plt.xlabel('Cantidad de estaciones de subtes cercanas', fontsize = 20)\n",
    "plt.ylabel('Precio por mt2 promedio', fontsize = 20)"
   ]
  },
  {
   "cell_type": "markdown",
   "metadata": {},
   "source": [
    "### Este grafico nos demuestra que las propiedades que tienen al menos una estacion de subte cerca, tienen en promedio un precio por m2 mayor a aquellas que no poseen un estacion de subte cercana.Tambien nos informa que no tiene relevancia la cantidad de estaciones cercanas, solo importa que este cerca de una."
   ]
  },
  {
   "cell_type": "markdown",
   "metadata": {},
   "source": [
    "## Analisis de la realcion del precio por m2 y la cercania a estaciones de tren"
   ]
  },
  {
   "cell_type": "code",
   "execution_count": null,
   "metadata": {
    "collapsed": true
   },
   "outputs": [],
   "source": [
    "#Coordenadas de estaciones de trenes separadas por su respectiva linea.\n",
    "def obtener_distancias_a_trenes(geoPos):\n",
    "    lineaSanMartin = [(-34.590505868, -58.376069069), (-34.578987744, -58.426752090), (-34.592448952, -58.446493149),\n",
    "                      (-34.596794231, -58.466062546), (-34.601492528, -58.494043350), (-34.602446285, -58.512883186),\n",
    "                      (-34.603364708, -58.527774811), (-34.603788592, -58.540949821), (-34.604671676, -58.564724922),\n",
    "                      (-34.604848292, -58.596138954), (-34.590965146, -58.632230759), (-34.578563734, -58.656563759),\n",
    "                      (-34.563722005, -58.684630394), (-34.551316528, -58.703513145), (-34.544070309, -58.713254929),\n",
    "                      (-34.519074848, -58.750634193), (-34.503798116, -58.797540665), (-34.490844294, -58.839511871),\n",
    "                      (-34.478719817, -58.877105713), (-34.468530709, -58.908262253)]\n",
    "    \n",
    "    lineaUrquiza = [(-34.586796217, -58.455419540), (-34.590081916, -58.466577530), (-34.592378295, -58.476104736),\n",
    "                    (-34.592961212, -58.494215012), (-34.594409655, -58.502969742), (-34.595557792, -58.510587215),\n",
    "                    (-34.597218148, -58.524470329), (-34.595469475, -58.535284996), (-34.593773756, -58.547022343),\n",
    "                    (-34.591689388, -58.559403419), (-34.589958263, -58.571977615), (-34.588933703, -58.590688705), \n",
    "                    (-34.588421418, -58.607017994), (-34.587767808, -58.620772362), (-34.587608821, -58.629484177),\n",
    "                    (-34.580136095, -58.640384674), (-34.573369430, -58.645083904), (-34.562856156, -58.659975529),\n",
    "                    (-34.555593269, -58.669481277), (-34.549089709, -58.678472042), (-34.543292628, -58.686540127),\n",
    "                    (-34.536575994, -58.695423603), (-34.532846260, -58.700573444)]\n",
    "    \n",
    "    lineaRoca = [(-34.625929, -58.381537), (-34.653588, -58.378764), (-34.661962, -58.376580), (-34.686132, -58.383069), \n",
    "                 (-34.707708, -58.391056), (-34.726060, -58.390585), (-34.743153, -58.395465), (-34.761184, -58.397406), \n",
    "                 (-34.775976, -58.396176), (-34.795120, -58.408172), (-34.796928, -58.428929), (-34.803084, -58.448641),\n",
    "                 (-34.814747, -58.469670), (-34.833361, -58.496412), (-34.854207, -58.522616), (-34.678947, -58.345075),\n",
    "                 (-34.691431, -58.325349), (-34.697429, -58.311186), (-34.703336, -58.296038), (-34.709460, -58.280410),\n",
    "                 (-34.724708, -58.260829), (-34.751987, -58.234202), (-34.763887, -58.208775), (-34.775144, -58.194796),\n",
    "                 (-34.789613, -58.203033), (-34.807186, -58.213065), (-34.819260, -58.230481)]\n",
    "    \n",
    "    lineaMitre = [(-34.589495900, -58.375815000), (-34.571805900, -58.425271100), (-34.575154900, -58.432836300), \n",
    "                  (-34.573093100, -58.448278700), (-34.567728900, -58.461285900), (-34.568478300, -58.479030100), \n",
    "                  (-34.574920000, -58.487589000), (-34.580332000, -58.501930000), (-34.582301700, -58.517546400), \n",
    "                  (-34.573738900, -58.531764100), (-34.563129900, -58.540566100), (-34.557439000, -58.547953800), \n",
    "                  (-34.550860200, -58.556444200), (-34.542311700, -58.567056900), (-34.534233500, -58.576114100),\n",
    "                  (-34.565444000, -58.475835000), (-34.554347600, -58.486654600), (-34.542106100, -58.494398600),\n",
    "                  (-34.529326200, -58.494565900), (-34.523137200, -58.494077700), (-34.514509800, -58.489039400),\n",
    "                  (-34.562738100, -58.435664200), (-34.558524000, -58.449531000), (-34.548763000, -58.463060000),\n",
    "                  (-34.536155000, -58.468273900), (-34.524049100, -58.473396200), (-34.508383800, -58.480840100),\n",
    "                  (-34.497587000, -58.488880900), (-34.487893200, -58.497004400), (-34.479836700, -58.503698100),\n",
    "                  (-34.471657700, -58.514076400), (-34.460823300, -58.526215300), (-34.455746600, -58.540753700),\n",
    "                  (-34.450016200, -58.551330000), (-34.444265500, -58.558544900), (-34.436394400, -58.568376300),\n",
    "                  (-34.423474500, -58.581848200)]\n",
    "    \n",
    "    lineaBelgranoSur = [(-34.712196387, -58.524127007), (-34.710679445, -58.537001610), (-34.708809687, -58.551721573),\n",
    "                        (-34.704434996, -58.587427139), (-34.699566116, -58.626222610), (-34.696849297, -58.647508621),\n",
    "                        (-34.691927041, -58.686497211), (-34.708986081, -58.731236458), (-34.722249832, -58.530778885),\n",
    "                        (-34.750622175, -58.584401608), (-34.756387146, -58.601760864), (-34.760230237, -58.615579605),\n",
    "                        (-34.771652680, -58.646779060), (-34.645424635, -58.393964767), (-34.648884536, -58.415679932),\n",
    "                        (-34.662228516, -58.440999985), (-34.665334743, -58.448553085), (-34.677299687, -58.477134705),\n",
    "                        (-34.683757921, -58.491854668), (-34.689968643, -58.507561684), (-34.702318127, -58.511638641),\n",
    "                        (-34.710714723, -58.514385223), (-34.710291385, -58.505930901), (-34.718122776, -58.477563858),\n",
    "                        (-34.718934094, -58.462457657), (-34.704928924, -58.440527916), (-34.697801958, -58.429198265),\n",
    "                        (-34.681322908, -58.428468704), (-34.661028352, -58.415594101)]\n",
    "    \n",
    "    lineaBelgranoNorte = [(-34.575254, -58.399343), (-34.543440, -58.447546), (-34.537156, -58.477231), \n",
    "                          (-34.543428, -58.500637), (-34.537072, -58.513160), (-34.531088, -58.524844), \n",
    "                          (-34.528640, -58.537715), (-34.523648, -58.546230), (-34.508921, -58.564748),\n",
    "                          (-34.504075, -58.620185), (-34.502567, -58.641925), (-34.502914, -58.666516),\n",
    "                          (-34.503488, -58.680711), (-34.498965, -58.694541), (-34.493690, -58.706301),\n",
    "                          (-34.485394, -58.725105), (-34.478762, -58.739754), (-34.470653, -58.757971),\n",
    "                          (-34.463085, -58.774975), (-34.453257, -58.796700), (-34.416597, -58.871704)]\n",
    "    \n",
    "    trenes = lineaSanMartin + lineaUrquiza + lineaRoca + lineaMitre + lineaBelgranoSur + lineaBelgranoNorte\n",
    "    cant_trenes_cercanos = 0\n",
    "    \n",
    "    for i in range(len(trenes)):\n",
    "        if (distancia(geoPos, trenes[i]) <= 800):\n",
    "            cant_trenes_cercanos += 1\n",
    "    return cant_trenes_cercanos"
   ]
  },
  {
   "cell_type": "code",
   "execution_count": null,
   "metadata": {
    "collapsed": true
   },
   "outputs": [],
   "source": [
    "#Agregamos a cada propiedad, la cantidad de estaciones de trenes que se encuentren a 800mts o menos.\n",
    "propiedadesCercanasTren = propiedadesDistancia.copy(deep = True)\n",
    "propiedadesCercanasTren.loc[:,'cant_trenes_cercanos'] = propiedadesCercanasTren['geoPos'].apply(obtener_distancias_a_trenes)"
   ]
  },
  {
   "cell_type": "code",
   "execution_count": null,
   "metadata": {},
   "outputs": [],
   "source": [
    "#Las propiedades que tienen al menos una estacion de Tren a 800m tienen en promedio mayor precio por m2\n",
    "groupbyTren = propiedadesCercanasTren.groupby('cant_trenes_cercanos')\n",
    "mediaGroupbyTren = groupbyTren['price_usd_per_m2'].agg(['mean'])\n",
    "\n",
    "cant_estaciones = np.arange(groupbyTren.ngroups)\n",
    "\n",
    "plt.figure(figsize=(12, 12));\n",
    "plt.bar(cant_estaciones, mediaGroupbyTren['mean'], width= 0.25, color = 'darkorange')\n",
    "plt.xticks(cant_estaciones, size = 'medium')\n",
    "plt.title('Relacion entre el precio por mt2 promedio y la cantidad de estaciones de tren cercanas', fontsize = 22, color = 'Blue')\n",
    "plt.xlabel('Cantidad de estaciones del tren cercanas', fontsize = 20)\n",
    "plt.ylabel('Precio por mt2 promedio', fontsize = 20)"
   ]
  },
  {
   "cell_type": "markdown",
   "metadata": {},
   "source": [
    "### Al igual que pasa con el subte, el precio por m2 promedio aumenta si la propiedad esta cercana a una estacion de tren, pero dicho aumento no es tan drastico como sucedia con el subte. Se necesitan al menos dos estaciones de tren cerca, para que el promedio del precio por m2 de una propiedad sea considerable con respecto a aquellas propiedades que no poseen un estacion de tren cercana."
   ]
  },
  {
   "cell_type": "code",
   "execution_count": null,
   "metadata": {
    "collapsed": true
   },
   "outputs": [],
   "source": [
    "#funcion para obtener la suma de estaciones de trenes y estaciones de subtes cercanas a una propiedad.\n",
    "def obtener_distancia_subteytren(geoPos):\n",
    "    return obtener_subtes_cercanos(geoPos) + obtener_distancias_a_trenes(geoPos)"
   ]
  },
  {
   "cell_type": "code",
   "execution_count": null,
   "metadata": {
    "collapsed": true
   },
   "outputs": [],
   "source": [
    "#Agregamos a cada propiedad, la cantidad de estaciones de trenes y estaciones de subtes que tiene a los alrededores.\n",
    "propiedadesCercanasSubteyTren = propiedadesDistancia.copy(deep = True)\n",
    "propiedadesCercanasSubteyTren['cant_subteytren'] = propiedadesCercanasSubteyTren['geoPos'].apply(obtener_distancia_subteytren)  "
   ]
  },
  {
   "cell_type": "code",
   "execution_count": null,
   "metadata": {},
   "outputs": [],
   "source": [
    "groupbySubteTren = propiedadesCercanasSubteyTren.groupby('cant_subteytren')\n",
    "mediarGoupbySubteTren = groupbySubteTren['price_usd_per_m2'].agg(['mean'])\n",
    "\n",
    "cant_estaciones = np.arange(groupbySubteTren.ngroups)\n",
    "\n",
    "plt.figure(figsize=(12, 12));\n",
    "plt.bar(cant_estaciones, mediarGoupbySubteTren['mean'], width= 0.25, color = 'darkorange')\n",
    "plt.xticks(cant_estaciones, size = 'medium')\n",
    "plt.title('Relacion entre el precio por mt2 promedio y la cantidad de estaciones cercanas', fontsize = 22, color = 'Blue')\n",
    "plt.xlabel('Cantidad de estaciones cercanas', fontsize = 20)\n",
    "plt.ylabel('Precio por mt2 promedio', fontsize = 20)\n"
   ]
  },
  {
   "cell_type": "markdown",
   "metadata": {},
   "source": [
    "### Este grafico nos demuestra que las propiedades que tienen al menos una estacion de subte o tren cerca tienen en promedio un precio por m2 mayor a aquellas que no poseen ninguna estacion cercana. Tambien se ve que a partir de 3 estaciones, el precio por m2 comienza bajar. Creemos que el precio promedio por m2 de las propiedades que tienen 11 estaciones de subte o trenes cercanas es relativamente alto no por la cantidad de estaciones sino porque estas se encuentran en el barrio de Puerto Madero donde el precio por m2 es bastante elevado. "
   ]
  },
  {
   "cell_type": "code",
   "execution_count": null,
   "metadata": {
    "collapsed": true
   },
   "outputs": [],
   "source": [
    "#Coordenadas de las estaciones del subte H inaguradas a principio de 2016.\n",
    "def distanciaANuevasEstaciones(geoPos):\n",
    "   \n",
    "    #Ubicacion de las estaciones\n",
    "    Cordoba = (-34.598691, -58.403841) #Inicio Obras: 17 ene 2012 - Inauguracion: 18 dic 2015\n",
    "    SantaFe = (-34.594848, -58.402517) #Inicio Obras: 17 ene 2012 - Inauguracion: 12 jul 2016\n",
    "    LasHeras = (-34.587879, -58.397970) #Inicio Obras: 17 ene 2012 - Inauguracion: 18 dic 2015\n",
    "\n",
    "    distACordoba = distancia(geoPos, Cordoba)\n",
    "    distASantaFe = distancia(geoPos, SantaFe)\n",
    "    distALasHeras = distancia(geoPos, LasHeras)\n",
    "    \n",
    "\n",
    "    return min(distACordoba, distASantaFe, distALasHeras)"
   ]
  },
  {
   "cell_type": "markdown",
   "metadata": {},
   "source": [
    "## Veamos el precio del m2 en recoleta por año"
   ]
  },
  {
   "cell_type": "code",
   "execution_count": null,
   "metadata": {},
   "outputs": [],
   "source": [
    "propiedadesEnRecoleta = propiedadesPorBarrio.copy(deep = True)\n",
    "propiedadesEnRecoleta = propiedadesEnRecoleta.loc[propiedadesEnRecoleta.place_name.str.contains('Recoleta') ,:]\n",
    "recoletaPorMes = propiedadesEnRecoleta.groupby(propiedadesEnRecoleta.created_on.dt.year).agg([np.size, np.mean])\n",
    "recoletaPorMes = recoletaPorMes.loc[recoletaPorMes['price_usd_per_m2']['size'] > 5.0, :]\n",
    "\n",
    "plt.figure(figsize=(10,10))\n",
    "recoletaPorMes['price_usd_per_m2']['mean'].plot(kind ='bar', color='y', legend=False)\n",
    "plt.title('Precio del m2 promedio en U$D anual en Recoleta')\n",
    "plt.xlabel(\"Periodo anual\")\n",
    "plt.ylabel(\"Precio promedio U$D\")"
   ]
  },
  {
   "cell_type": "markdown",
   "metadata": {},
   "source": [
    "## Se puede ver una suba de precios de 2015 a 2016. Esto puede ser por la cercania de las propiedades a las nuevas estaciones del subte H. Veamoslo"
   ]
  },
  {
   "cell_type": "markdown",
   "metadata": {},
   "source": [
    "### Precio por m2 en relacion a la cercania al Subte H y al año de su inauguracion"
   ]
  },
  {
   "cell_type": "code",
   "execution_count": 1,
   "metadata": {},
   "outputs": [
    {
     "ename": "NameError",
     "evalue": "name 'propiedadesDistancia' is not defined",
     "output_type": "error",
     "traceback": [
      "\u001b[0;31m---------------------------------------------------------------------------\u001b[0m",
      "\u001b[0;31mNameError\u001b[0m                                 Traceback (most recent call last)",
      "\u001b[0;32m<ipython-input-1-ca3387667f5c>\u001b[0m in \u001b[0;36m<module>\u001b[0;34m()\u001b[0m\n\u001b[1;32m      1\u001b[0m \u001b[0;31m#Nos quedamos con propiedades que estan a menos de 400mts\u001b[0m\u001b[0;34m\u001b[0m\u001b[0;34m\u001b[0m\u001b[0m\n\u001b[0;32m----> 2\u001b[0;31m \u001b[0mcercanasANuevasEstaciones\u001b[0m \u001b[0;34m=\u001b[0m \u001b[0mpropiedadesDistancia\u001b[0m\u001b[0;34m.\u001b[0m\u001b[0mcopy\u001b[0m\u001b[0;34m(\u001b[0m\u001b[0mdeep\u001b[0m \u001b[0;34m=\u001b[0m \u001b[0mTrue\u001b[0m\u001b[0;34m)\u001b[0m\u001b[0;34m\u001b[0m\u001b[0m\n\u001b[0m\u001b[1;32m      3\u001b[0m \u001b[0mcercanasANuevasEstaciones\u001b[0m\u001b[0;34m.\u001b[0m\u001b[0mloc\u001b[0m\u001b[0;34m[\u001b[0m\u001b[0;34m:\u001b[0m\u001b[0;34m,\u001b[0m \u001b[0;34m'distanciaAEstacion'\u001b[0m\u001b[0;34m]\u001b[0m \u001b[0;34m=\u001b[0m \u001b[0mcercanasANuevasEstaciones\u001b[0m\u001b[0;34m[\u001b[0m\u001b[0;34m'geoPos'\u001b[0m\u001b[0;34m]\u001b[0m\u001b[0;34m.\u001b[0m\u001b[0mapply\u001b[0m\u001b[0;34m(\u001b[0m\u001b[0mdistanciaANuevasEstaciones\u001b[0m\u001b[0;34m)\u001b[0m\u001b[0;34m\u001b[0m\u001b[0m\n\u001b[1;32m      4\u001b[0m \u001b[0mcercanasANuevasEstaciones\u001b[0m \u001b[0;34m=\u001b[0m \u001b[0mcercanasANuevasEstaciones\u001b[0m\u001b[0;34m.\u001b[0m\u001b[0mloc\u001b[0m\u001b[0;34m[\u001b[0m\u001b[0mcercanasANuevasEstaciones\u001b[0m\u001b[0;34m[\u001b[0m\u001b[0;34m\"distanciaAEstacion\"\u001b[0m\u001b[0;34m]\u001b[0m \u001b[0;34m<\u001b[0m \u001b[0;36m400\u001b[0m\u001b[0;34m,\u001b[0m \u001b[0;34m:\u001b[0m\u001b[0;34m]\u001b[0m\u001b[0;34m\u001b[0m\u001b[0m\n\u001b[1;32m      5\u001b[0m \u001b[0;34m\u001b[0m\u001b[0m\n",
      "\u001b[0;31mNameError\u001b[0m: name 'propiedadesDistancia' is not defined"
     ]
    }
   ],
   "source": [
    "#Nos quedamos con propiedades que estan a menos de 400mts\n",
    "cercanasANuevasEstaciones = propiedadesDistancia.copy(deep = True)\n",
    "cercanasANuevasEstaciones.loc[:, 'distanciaAEstacion'] = cercanasANuevasEstaciones['geoPos'].apply(distanciaANuevasEstaciones)\n",
    "cercanasANuevasEstaciones = cercanasANuevasEstaciones.loc[cercanasANuevasEstaciones[\"distanciaAEstacion\"] < 400, :]\n",
    "\n",
    "cercanasANuevasEstaciones.groupby(cercanasANuevasEstaciones.created_on.dt.year)['price_usd_per_m2'].agg(np.mean)\\\n",
    ".plot(kind ='bar', color='g', legend = False, figsize = (10, 10))\n",
    "plt.title(\"Precio anual en U$S del m2 en cercanias de las nuevas estaciones del Subte H \", fontsize = 20, color = 'blue')\n",
    "plt.xlabel(\"Periodo anual\", fontsize = 15)\n",
    "plt.ylabel(\"Precio promedio m2 (U$S)\", fontsize = 15)"
   ]
  },
  {
   "cell_type": "markdown",
   "metadata": {},
   "source": [
    "## Viendo que pasa en Villa Urquiza en los ultimos 2 años"
   ]
  },
  {
   "cell_type": "code",
   "execution_count": 58,
   "metadata": {},
   "outputs": [
    {
     "data": {
      "image/png": "[encoded data removed]",
      "text/plain": [
       "<matplotlib.figure.Figure at 0x7f9bdae57400>"
      ]
     },
     "metadata": {},
     "output_type": "display_data"
    }
   ],
   "source": [
    "propVillaUrquiza = propiedadesDistancia.copy(deep=True)\n",
    "propVillaUrquiza20172016 = propVillaUrquiza.loc[(propVillaUrquiza.place_name.str.contains('Villa Urquiza')) & (propVillaUrquiza.created_on.dt.year > 2015), :]\n",
    "\n",
    "\n",
    "propVillaUrquiza20172016grouped = propVillaUrquiza20172016.groupby([propVillaUrquiza20172016.created_on.dt.year, propVillaUrquiza20172016.created_on.dt.month ])\\\n",
    "['surface_total_in_m2'].agg(['mean', 'size'])\n",
    "#Solo tomo los que tengan mas de 10 casas\n",
    "propVillaUrquiza20172016grouped = propVillaUrquiza20172016grouped.loc[propVillaUrquiza20172016grouped['size'] > 10, :]\n",
    "\n",
    "#Superficie total de las publicaciones (fue bajando a lo largo de los ultimos meses)\n",
    "propVillaUrquiza20172016grouped['mean'].plot( kind = 'area', color = 'c', figsize = (10,10))\n",
    "plt.title(\"Superficie total de la propiedad m2 promedio anual\", fontsize = 20, color = 'blue')\n",
    "plt.xlabel(\"Periodo\", fontsize = 18);\n",
    "plt.ylabel(\"Metros cuadrados\", fontsize =18);\n",
    "#Porcentaje cubierto promedio"
   ]
  },
  {
   "cell_type": "markdown",
   "metadata": {},
   "source": [
    "## Vemos que el promedio de la superficie cubierta para las propiedades publicadas fue bajando y esta causa puede ser la expansion del barrio, el cual crecio \"para arriba\", construyendose muchos edificios. Esto lo podemos comprobar facilmente:"
   ]
  },
  {
   "cell_type": "code",
   "execution_count": 59,
   "metadata": {},
   "outputs": [
    {
     "data": {
      "text/plain": [
       "apartment    834\n",
       "PH            69\n",
       "house         43\n",
       "store         17\n",
       "Name: property_type, dtype: int64"
      ]
     },
     "execution_count": 59,
     "metadata": {},
     "output_type": "execute_result"
    }
   ],
   "source": [
    "propVillaUrquiza20172016['property_type'].value_counts()"
   ]
  },
  {
   "cell_type": "markdown",
   "metadata": {},
   "source": [
    "### Aca se ve como se vendieron muchos mas departamentos que otro tipo de propiedad durante estos ultimos dos años."
   ]
  }
 ],
 "metadata": {
  "kernelspec": {
   "display_name": "Python 2",
   "language": "python",
   "name": "python2"
  },
  "language_info": {
   "codemirror_mode": {
    "name": "ipython",
    "version": 2
   },
   "file_extension": ".py",
   "mimetype": "text/x-python",
   "name": "python",
   "nbconvert_exporter": "python",
   "pygments_lexer": "ipython2",
   "version": "2.7.13"
  }
 },
 "nbformat": 4,
 "nbformat_minor": 2
}
