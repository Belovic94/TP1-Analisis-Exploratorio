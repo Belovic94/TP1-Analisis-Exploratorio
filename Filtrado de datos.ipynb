{
 "cells": [
  {
   "cell_type": "code",
   "execution_count": 252,
   "metadata": {
    "collapsed": true
   },
   "outputs": [],
   "source": [
    "import datetime as datetime\n",
    "import pandas as pd\n",
    "import numpy as np\n",
    "import datetime \n",
    "import seaborn as sns\n",
    "import matplotlib.pyplot as plt\n",
    "\n",
    "#Permite ver los graficos sin colocar plt.show\n",
    "%matplotlib inline "
   ]
  },
  {
   "cell_type": "markdown",
   "metadata": {},
   "source": [
    "## Juntamos varios csv de properati para poder tener mas variedad de propiedades"
   ]
  },
  {
   "cell_type": "code",
   "execution_count": 254,
   "metadata": {
    "scrolled": false
   },
   "outputs": [],
   "source": [
    "propiedades2017 = pd.read_csv(\"properati-AR-2017-08-01-properties-sell.csv\", low_memory = False)\n",
    "propiedades2015 = pd.read_csv(\"properati-AR-2015-12-01-properties-sell.csv\", low_memory = False)\n",
    "frames = [propiedades2015, propiedades2017]\n",
    "propiedades = pd.concat(frames)"
   ]
  },
  {
   "cell_type": "code",
   "execution_count": 255,
   "metadata": {
    "collapsed": true
   },
   "outputs": [],
   "source": [
    "\n",
    "def obtenerBarrio(row):\n",
    "    try: \n",
    "        places = row['place_with_parent_names'].split('|')\n",
    "        if (places[2] == 'Capital Federal' or places[4] == ''):\n",
    "            if(places[3] == ''):\n",
    "                return row['place_name']\n",
    "            return places[3]\n",
    "        return places[4]\n",
    "    except:\n",
    "        if(places[3] == ''):\n",
    "            return row['place_name']\n",
    "        return places[3]"
   ]
  },
  {
   "cell_type": "code",
   "execution_count": 256,
   "metadata": {
    "collapsed": true
   },
   "outputs": [],
   "source": [
    "#Dropeamos las propiedades cuyo ID este duplicado. Nos quedamos solo con las propiedades con año de \n",
    "#creacion 2014/2015/2016/2017\n",
    "#Agregamos una columna que determina en que zona de BS AS se encuentra la propiedad\n",
    "propiedades.drop_duplicates(subset=[ 'id'])\n",
    "propiedades['created_on'] = pd.to_datetime(propiedades['created_on'])\n",
    "propiedades = propiedades[propiedades.created_on.dt.year > 2013]\n",
    "propiedades['zona'] = propiedades['place_with_parent_names'].apply(lambda x: x.split('|')[2])"
   ]
  },
  {
   "cell_type": "markdown",
   "metadata": {},
   "source": [
    "### Filtrado de propiedades y analisis de la descripción"
   ]
  },
  {
   "cell_type": "code",
   "execution_count": 257,
   "metadata": {
    "collapsed": true
   },
   "outputs": [],
   "source": [
    "#Nos quedamos solamente con las propiedades que esten en Capital Federal o el Gran Buenos Aires.\n",
    "dataCapGba = propiedades.loc[(propiedades.zona.str.contains('Capital Federal') | propiedades.state_name.str.contains('G.B.A') ),:]\n",
    "dataCapGba = dataCapGba.loc[dataCapGba['description'].notnull(), :]\n",
    "dataCapGba = dataCapGba.loc[dataCapGba['price_aprox_usd'] > 1000,:]\n",
    "dataCapGba = dataCapGba.loc[dataCapGba['price_usd_per_m2'] > 100,:]\n",
    "dataCapGba = dataCapGba.loc[dataCapGba['price_usd_per_m2'] < 10000,:]\n",
    "dataCapGba = dataCapGba.loc[dataCapGba['surface_total_in_m2'] > 20, :]\n",
    "dataCapGba['barrio'] = dataCapGba.apply(obtenerBarrio, axis =1)\n",
    "dataCapGba['barrio'] = dataCapGba['barrio'].apply(lambda x : x.strip())\n",
    "dataCapGba = dataCapGba.loc[dataCapGba['barrio'] != '', :]\n",
    "\n",
    "#Analizamos la descripcion para obtener informacion que nos puede ser util a la hora de aproximar el\n",
    "#valor de la propiedad. Como por ej: Si tiene cochera o no.\n",
    "dataCapGba['pileta'] = dataCapGba.description.str.contains('pileta')\n",
    "dataCapGba['cochera'] = dataCapGba.description.str.contains('cochera')\n",
    "dataCapGba['aire acondicionado'] = dataCapGba.description.str.contains('aire acondicionado')\n",
    "dataCapGba['seguridad'] = dataCapGba.description.str.contains('seguridad')\n",
    "dataCapGba['patio'] = dataCapGba.description.str.contains('patio')\n",
    "dataCapGba['amenities'] = dataCapGba.description.str.contains('ameniti') | dataCapGba.description.str.contains('SUM') | dataCapGba.description.str.contains('sauna') \n",
    "dataCapGba['parrilla'] = dataCapGba.description.str.contains('parrilla') | dataCapGba.description.str.contains('asador')\n",
    "\n",
    "#En caso de que diga algo en la descripcion, se le pone un 1. Si no dice, se le pone 0.\n",
    "dataCapGba['pileta'] = dataCapGba['pileta'].map(lambda x: 1 if x== True  else 0 )\n",
    "dataCapGba['cochera'] = dataCapGba['cochera'].map(lambda x: 1 if x==True  else 0)\n",
    "dataCapGba['aire acondicionado'] = dataCapGba['aire acondicionado'].map(lambda x: 1 if x==True  else 0)\n",
    "dataCapGba['seguridad'] = dataCapGba['seguridad'].map(lambda x: 1 if x==True  else 0)\n",
    "dataCapGba['patio'] = dataCapGba['patio'].map(lambda x: 1 if x==True  else 0)\n",
    "dataCapGba['amenities'] = dataCapGba['amenities'].map(lambda x: 1 if x==True  else 0)\n",
    "dataCapGba['parrilla'] = dataCapGba['parrilla'].map(lambda x: 1 if x==True  else 0)"
   ]
  },
  {
   "cell_type": "code",
   "execution_count": 258,
   "metadata": {
    "collapsed": true
   },
   "outputs": [],
   "source": [
    "dataCapGba = dataCapGba.loc[:, ['place_with_parent_names','created_on', 'property_type', 'lat', 'lon', 'barrio','price_aprox_usd', 'price_usd_per_m2', 'surface_total_in_m2', 'surface_covered_in_m2', 'zona', 'pileta', 'cochera', 'aire acondicionado', 'seguridad', 'patio', 'amenities' ]]"
   ]
  },
  {
   "cell_type": "code",
   "execution_count": 259,
   "metadata": {
    "collapsed": true
   },
   "outputs": [],
   "source": [
    "#Cargo el csv que tenemos que utilizar para aproximar el valor de la propiedad.\n",
    "dataNo_price = pd.read_csv('properati_dataset_testing_noprice.csv')"
   ]
  },
  {
   "cell_type": "code",
   "execution_count": 260,
   "metadata": {
    "collapsed": true
   },
   "outputs": [],
   "source": [
    "#Modificamos el dataframe para agregarle todas las columnas nuevas que vamos a utilizar.\n",
    "dataNo_price['created_on'] = pd.to_datetime(dataNo_price['created_on'])\n",
    "dataNo_price['zona'] = dataNo_price['place_with_parent_names'].apply(lambda x: x.split('|')[2])\n",
    "dataNo_price['barrio'] = dataNo_price.apply(obtenerBarrio, axis =1)\n",
    "dataNo_price['barrio'] = dataNo_price['barrio'].apply(lambda x : x.strip())\n",
    "\n",
    "dataNo_price['pileta'] = dataNo_price.description.str.contains('pileta')\n",
    "dataNo_price['cochera'] = dataNo_price.description.str.contains('cochera')\n",
    "dataNo_price['aire acondicionado'] = dataNo_price.description.str.contains('aire acondicionado')\n",
    "dataNo_price['seguridad'] = dataNo_price.description.str.contains('seguridad')\n",
    "dataNo_price['patio'] = dataNo_price.description.str.contains('patio')\n",
    "dataNo_price['amenities'] = dataNo_price.description.str.contains('ameniti') | dataNo_price.description.str.contains('SUM') | dataNo_price.description.str.contains('sauna') \n",
    "dataNo_price['parrilla'] = dataNo_price.description.str.contains('parrilla') | dataNo_price.description.str.contains('asador')\n",
    "\n",
    "dataNo_price['pileta'] = dataNo_price['pileta'].map(lambda x: 1 if x== True  else 0 )\n",
    "dataNo_price['cochera'] = dataNo_price['cochera'].map(lambda x: 1 if x==True  else 0)\n",
    "dataNo_price['aire acondicionado'] = dataNo_price['aire acondicionado'].map(lambda x: 1 if x==True  else 0)\n",
    "dataNo_price['seguridad'] = dataNo_price['seguridad'].map(lambda x: 1 if x==True  else 0)\n",
    "dataNo_price['patio'] = dataNo_price['patio'].map(lambda x: 1 if x==True  else 0)\n",
    "dataNo_price['amenities'] = dataNo_price['amenities'].map(lambda x: 1 if x==True  else 0)\n",
    "dataNo_price['parrilla'] = dataNo_price['parrilla'].map(lambda x: 1 if x==True  else 0)"
   ]
  },
  {
   "cell_type": "code",
   "execution_count": 261,
   "metadata": {
    "collapsed": true
   },
   "outputs": [],
   "source": [
    "dataNo_price = dataNo_price.loc[:, ['id','place_with_parent_names','created_on', 'property_type', 'lat', 'lon', 'barrio', 'surface_total_in_m2', 'surface_covered_in_m2', 'zona', 'pileta', 'cochera', 'aire acondicionado', 'seguridad', 'patio', 'amenities' ]]"
   ]
  },
  {
   "cell_type": "code",
   "execution_count": 262,
   "metadata": {
    "collapsed": true
   },
   "outputs": [],
   "source": [
    "#Funciones que se fijan que no haya propiedades que tengan latitud o longitud fuera de los rangos que tienen la mayoria.\n",
    "def corregirLatitud(lat):\n",
    "    if np.isnan(lat): \n",
    "        return lat\n",
    "    if lat > -34 or lat < -35.2:\n",
    "        lat = float('nan')\n",
    "    return lat\n",
    "\n",
    "def  corregirLongitud(lon):\n",
    "    if np.isnan(lon): \n",
    "        return lon\n",
    "    if lon > -57.7 or lon < -59:\n",
    "        lon = float('nan') \n",
    "    return lon"
   ]
  },
  {
   "cell_type": "code",
   "execution_count": 263,
   "metadata": {
    "collapsed": true
   },
   "outputs": [],
   "source": [
    "dataCapGba['lat'] = dataCapGba['lat'].apply(corregirLatitud)\n",
    "dataCapGba['lon'] = dataCapGba['lon'].apply(corregirLongitud)\n",
    "dataNo_price['lat'] = dataNo_price['lat'].apply(corregirLatitud)\n",
    "dataNo_price['lon'] = dataNo_price['lon'].apply(corregirLongitud)"
   ]
  },
  {
   "cell_type": "code",
   "execution_count": 264,
   "metadata": {
    "collapsed": true
   },
   "outputs": [],
   "source": [
    "dicc_cambio_Propiedad = {'departamento': 'apartment', 'casa': 'house', 'ph': 'PH'}\n",
    "dataNo_price['property_type'] = dataNo_price['property_type'].apply(lambda x: dicc_cambio_Propiedad.get(x))"
   ]
  },
  {
   "cell_type": "code",
   "execution_count": 265,
   "metadata": {
    "collapsed": true
   },
   "outputs": [],
   "source": [
    "#Funcion que elimina los Nan de las columnas surface_total y surface_covered\n",
    "def recuperarSuperficieTotal(row):\n",
    "    if (np.isnan(row['surface_total_in_m2'])):\n",
    "        if (row['property_type'] == 'apartment') & (not(np.isnan(row['surface_covered_in_m2']))):\n",
    "            row['surface_total_in_m2'] = row['surface_covered_in_m2']\n",
    "    return row['surface_total_in_m2']        "
   ]
  },
  {
   "cell_type": "code",
   "execution_count": 266,
   "metadata": {
    "collapsed": true
   },
   "outputs": [],
   "source": [
    "dataNo_price['surface_total_in_m2'] = dataNo_price.apply(recuperarSuperficieTotal, axis = 1)"
   ]
  },
  {
   "cell_type": "code",
   "execution_count": 267,
   "metadata": {},
   "outputs": [
    {
     "name": "stdout",
     "output_type": "stream",
     "text": [
      "<class 'pandas.core.frame.DataFrame'>\n",
      "Int64Index: 105289 entries, 0 to 106062\n",
      "Data columns (total 18 columns):\n",
      "aire acondicionado         105289 non-null int64\n",
      "amenities                  105289 non-null int64\n",
      "barrio                     105289 non-null object\n",
      "cochera                    105289 non-null int64\n",
      "created_on                 105289 non-null datetime64[ns]\n",
      "id                         13392 non-null float64\n",
      "lat                        71444 non-null float64\n",
      "lon                        71426 non-null float64\n",
      "patio                      105289 non-null int64\n",
      "pileta                     105289 non-null int64\n",
      "place_with_parent_names    105289 non-null object\n",
      "price_aprox_usd            91897 non-null float64\n",
      "price_usd_per_m2           91897 non-null float64\n",
      "property_type              105289 non-null object\n",
      "seguridad                  105289 non-null int64\n",
      "surface_covered_in_m2      99674 non-null float64\n",
      "surface_total_in_m2        104592 non-null float64\n",
      "zona                       105289 non-null object\n",
      "dtypes: datetime64[ns](1), float64(7), int64(6), object(4)\n",
      "memory usage: 15.3+ MB\n"
     ]
    }
   ],
   "source": [
    "#Junto ambos csvs para poder crear diccionarios para surface_total, surface_covered, lat y lon. Esto es para rellenar\n",
    "#los registros que tengan valor Nan\n",
    "concatenado = pd.concat([dataCapGba, dataNo_price], axis=0, ignore_index=True)\n",
    "concatenado.dropna(inplace=True, subset=['surface_covered_in_m2', 'surface_total_in_m2'], how='all')\n",
    "concatenado.info()"
   ]
  },
  {
   "cell_type": "code",
   "execution_count": 268,
   "metadata": {},
   "outputs": [],
   "source": [
    "lat_barrio = concatenado.loc[:,['lat', 'barrio']]\n",
    "lat_barrio = lat_barrio.groupby('barrio').agg('mean')\n",
    "dicc_lat = {}\n",
    "for x in range(len(lat_barrio)):\n",
    "    dicc_lat[lat_barrio.index[x]] = lat_barrio.lat[x]\n",
    "dicc_lat['Buenos Aires Interior'] = dicc_lat['Palermo']\n",
    "dicc_lat['Altos de Hudson I'] = dicc_lat['Altos de Hudson II']\n",
    "dicc_lat['Sourigues'] = -34.805492\n",
    "dicc_lat['Terralagos'] = -34.907032\n",
    "dicc_lat['Bs.As. G.B.A. Zona Sur'] = -34.874153"
   ]
  },
  {
   "cell_type": "code",
   "execution_count": 269,
   "metadata": {},
   "outputs": [],
   "source": [
    "lon_barrio = concatenado.loc[:,['lon', 'barrio']]\n",
    "lon_barrio = lon_barrio.groupby('barrio').agg('mean')\n",
    "dicc_lon = {}\n",
    "for x in range(len(lon_barrio)):\n",
    "    dicc_lon[lon_barrio.index[x]] = lon_barrio.lon[x]\n",
    "dicc_lon['Buenos Aires Interior'] = dicc_lon['Palermo']\n",
    "dicc_lon['Altos de Hudson I'] = dicc_lon['Altos de Hudson II']\n",
    "dicc_lon['Sourigues'] = -58.222173\n",
    "dicc_lon['Terralagos'] = -58.514642\n",
    "dicc_lon['Bs.As. G.B.A. Zona Sur'] = -57.883674\n",
    "dicc_lon['Haras San Pablo'] = -59.0397703"
   ]
  },
  {
   "cell_type": "code",
   "execution_count": 270,
   "metadata": {},
   "outputs": [],
   "source": [
    "superficie_covered_barrio = concatenado.loc[:, ['barrio','property_type', 'surface_covered_in_m2']]\n",
    "superficie_covered_barrio = superficie_covered_barrio.groupby(['barrio', 'property_type']).agg(np.mean)\n",
    "dicc_superficie_covered = {}\n",
    "for x in range(len(superficie_covered_barrio)):\n",
    "    dicc_superficie_covered[superficie_covered_barrio.index[x]] = superficie_covered_barrio.surface_covered_in_m2[x]\n",
    "dicc_superficie_covered[('Buenos Aires Interior', 'apartment' )] = dicc_superficie_covered[('Palermo', 'apartment')]\n",
    "dicc_superficie_covered[('Villa Numancia', 'house')] = 300\n",
    "dicc_superficie_covered[('Villa Celina', 'house')] = 100\n",
    "dicc_superficie_covered[('Villa Riachuelo', 'apartment')] = 65"
   ]
  },
  {
   "cell_type": "code",
   "execution_count": 271,
   "metadata": {},
   "outputs": [],
   "source": [
    "superficie_total_barrio = concatenado.loc[:, ['barrio','property_type', 'surface_total_in_m2']]\n",
    "superficie_total_barrio = superficie_total_barrio.groupby(['barrio', 'property_type']).agg(np.mean)\n",
    "dicc_superficie_total = {}\n",
    "for x in range(len(superficie_total_barrio)):\n",
    "    dicc_superficie_total[superficie_total_barrio.index[x]] = superficie_total_barrio.surface_total_in_m2[x]\n",
    "\n",
    "dicc_superficie_total[('Buenos Aires Interior', 'apartment' )] = dicc_superficie_total[('Palermo', 'apartment')]\n",
    "dicc_superficie_total[('Villa Numancia', 'house')] = 500\n",
    "dicc_superficie_total[('Altos de Hudson I', 'house')] = dicc_superficie_total[('Altos de Hudson II', 'house')]"
   ]
  },
  {
   "cell_type": "code",
   "execution_count": 272,
   "metadata": {
    "collapsed": true
   },
   "outputs": [],
   "source": [
    "def llenadoDeSuperficieTotal(reg):\n",
    "    \n",
    "    if reg['surface_total_in_m2'] == 0 or np.isnan(reg['surface_total_in_m2']):\n",
    "        reg['surface_total_in_m2'] = dicc_superficie_total[(reg['barrio'], reg['property_type'])]\n",
    "    return reg['surface_total_in_m2']\n",
    "\n",
    "def llenadoDeSuperficieCovered(reg):\n",
    "    \n",
    "    if reg['surface_covered_in_m2'] == 0 or np.isnan(reg['surface_covered_in_m2']):\n",
    "        reg['surface_covered_in_m2'] = dicc_superficie_covered[(reg['barrio'], reg['property_type'])]\n",
    "    return reg['surface_covered_in_m2']\n",
    "\n",
    "def llenadoDeLatitud(reg):\n",
    "    \n",
    "    if np.isnan(reg['lat']):\n",
    "        reg['lat'] = dicc_lat[reg['barrio']] \n",
    "    return reg['lat']\n",
    "\n",
    "def llenadoDeLongitud(reg):\n",
    "    \n",
    "    if np.isnan(reg['lon']):\n",
    "        reg['lon'] = dicc_lon[reg['barrio']] \n",
    "    return reg['lon']\n"
   ]
  },
  {
   "cell_type": "code",
   "execution_count": 273,
   "metadata": {},
   "outputs": [
    {
     "name": "stdout",
     "output_type": "stream",
     "text": [
      "<class 'pandas.core.frame.DataFrame'>\n",
      "RangeIndex: 14166 entries, 0 to 14165\n",
      "Data columns (total 16 columns):\n",
      "id                         14166 non-null int64\n",
      "place_with_parent_names    14166 non-null object\n",
      "created_on                 14166 non-null datetime64[ns]\n",
      "property_type              14166 non-null object\n",
      "lat                        14166 non-null float64\n",
      "lon                        14166 non-null float64\n",
      "barrio                     14166 non-null object\n",
      "surface_total_in_m2        14166 non-null float64\n",
      "surface_covered_in_m2      14166 non-null float64\n",
      "zona                       14166 non-null object\n",
      "pileta                     14166 non-null int64\n",
      "cochera                    14166 non-null int64\n",
      "aire acondicionado         14166 non-null int64\n",
      "seguridad                  14166 non-null int64\n",
      "patio                      14166 non-null int64\n",
      "amenities                  14166 non-null int64\n",
      "dtypes: datetime64[ns](1), float64(4), int64(7), object(4)\n",
      "memory usage: 1.7+ MB\n"
     ]
    }
   ],
   "source": [
    "#Aplico todas las funciones al csv de properati para que no me quede ninguna superficie, lat o lon en Nan\n",
    "dataNo_price['lat'] = dataNo_price.apply(llenadoDeLatitud, axis=1)\n",
    "dataNo_price['lon'] = dataNo_price.apply(llenadoDeLongitud, axis=1)\n",
    "dataNo_price['surface_total_in_m2'] = dataNo_price.apply(llenadoDeSuperficieTotal, axis=1)\n",
    "dataNo_price['surface_covered_in_m2'] = dataNo_price.apply(llenadoDeSuperficieCovered, axis=1)\n",
    "dataNo_price.info()"
   ]
  },
  {
   "cell_type": "code",
   "execution_count": 274,
   "metadata": {},
   "outputs": [
    {
     "name": "stdout",
     "output_type": "stream",
     "text": [
      "<class 'pandas.core.frame.DataFrame'>\n",
      "Int64Index: 91897 entries, 3658 to 187478\n",
      "Data columns (total 17 columns):\n",
      "place_with_parent_names    91897 non-null object\n",
      "created_on                 91897 non-null datetime64[ns]\n",
      "property_type              91897 non-null object\n",
      "lat                        91838 non-null float64\n",
      "lon                        91836 non-null float64\n",
      "barrio                     91897 non-null object\n",
      "price_aprox_usd            91897 non-null float64\n",
      "price_usd_per_m2           91897 non-null float64\n",
      "surface_total_in_m2        91897 non-null float64\n",
      "surface_covered_in_m2      91860 non-null float64\n",
      "zona                       91897 non-null object\n",
      "pileta                     91897 non-null int64\n",
      "cochera                    91897 non-null int64\n",
      "aire acondicionado         91897 non-null int64\n",
      "seguridad                  91897 non-null int64\n",
      "patio                      91897 non-null int64\n",
      "amenities                  91897 non-null int64\n",
      "dtypes: datetime64[ns](1), float64(6), int64(6), object(4)\n",
      "memory usage: 12.6+ MB\n"
     ]
    }
   ],
   "source": [
    "#Hago lo mismo para el csv que armamos para entrar los algoritmos de machine learning\n",
    "dataCapGba['lat'] = dataCapGba.apply(llenadoDeLatitud, axis=1)\n",
    "dataCapGba['lon'] = dataCapGba.apply(llenadoDeLongitud, axis=1)\n",
    "dataCapGba['surface_total_in_m2'] = dataCapGba.apply(llenadoDeSuperficieTotal, axis=1)\n",
    "dataCapGba['surface_covered_in_m2'] = dataCapGba.apply(llenadoDeSuperficieCovered, axis=1)\n",
    "dataCapGba.info()"
   ]
  },
  {
   "cell_type": "code",
   "execution_count": 275,
   "metadata": {
    "collapsed": true
   },
   "outputs": [],
   "source": [
    "dataAExportarTrain = dataCapGba.loc[dataCapGba['lat'].notnull() & dataCapGba['lon'].notnull() & dataCapGba['surface_covered_in_m2'].notnull() ]"
   ]
  },
  {
   "cell_type": "code",
   "execution_count": 276,
   "metadata": {
    "collapsed": true
   },
   "outputs": [],
   "source": [
    "#Formulas importantes \n",
    "\n",
    "#Funcion para calcular distancias entre coordenadas (lat, lon)\n",
    "from math import sin,cos,sqrt,asin,pi\n",
    "\n",
    "#Formula del Harvesine sacada de\n",
    "#https://joseguerreroa.wordpress.com/2012/11/13/distancia-entre-dos-puntos-de-la-superficie-terrestre-mediante-la-formula-de-haversine-con-python/\n",
    "#coord = (lat, long)\n",
    "def distancia(coord1, coord2):\n",
    "    rTierra = 6374000 #metros\n",
    "    c = pi/180 #para pasar a raddianes\n",
    "    d = 2*rTierra*asin(sqrt(sin(c*(coord2[0]-coord1[0])/2)**2 + cos(c*coord1[0])*cos(c*coord2[0])*sin(c*(coord2[1]-coord1[1])/2)**2))\n",
    "    return d\n",
    "\n",
    "def obtener_geoPos(reg):\n",
    "    lat, lon = reg\n",
    "    return lat,lon\n",
    "\n",
    "def obtener_distancia_al_centro(geoPos):\n",
    "    centro = (-34.608056,  -58.370278)# Se utilizo las coordenadas de la Casa Rosada\n",
    "    return distancia(geoPos, centro)\n",
    "#calcula la distancia en metros entre la propiedad y la villa Fuerte Apache. Recibe por parametro un registro\n",
    "def distanciaAFuerteApache(geoPos):\n",
    "      #Ubicacion\n",
    "    fuerteApache = (-34.622374, -58.539921) #Tomamos este como el punto central de la villa\n",
    "    return distancia(geoPos, fuerteApache)\n",
    "\n",
    "#calcula la distancia en metros entre la propiedad y la villa Carlos Gardel. Recibe por parametro un registro\n",
    "def distanciaACarlosGardel(geoPos):\n",
    "    #Ubicacion\n",
    "    carlosGardel = (-34.6244, -58.5778) #Tomamos este como el punto central de la villa\n",
    "    return distancia(geoPos, carlosGardel)\n",
    "\n",
    "#Informacion sacada de \n",
    "#http://blogs.monografias.com/estampas-de-buenos-aires/2015/05/21/las-villas-de-emergencia-en-la-ciudad/\n",
    "def distanciaAVillas(geoPos):\n",
    "    \n",
    "    Indoamericano = (-34.665202, -58.468526)# Se tomaron estas coordenadas ya que alrededor hay una gran cantidad de villas\n",
    "    return distancia(geoPos, Indoamericano)"
   ]
  },
  {
   "cell_type": "code",
   "execution_count": 277,
   "metadata": {
    "collapsed": true
   },
   "outputs": [],
   "source": [
    "#Coordenadas de todas las estaciones de subtes separada cada una por su respectiva linea\n",
    "def obtener_subtes_cercanos(geoPos):\n",
    "    lineaE = [(-34.609563795, -58.374052048), (-34.612989872, -58.377828598),(-34.618217016, -58.381583691), (-34.622366711, -58.385403156),\n",
    "              (-34.622455000, -58.391432762), (-34.623125994, -58.397119045), (-34.623867613, -58.402848244), (-34.624679854, -58.409628868),\n",
    "              (-34.625545060, -58.416645527), (-34.626798708, -58.426151276), (-34.628069994, -58.434305191), (-34.631618899, -58.442544937),\n",
    "              (-34.636385845, -58.450076580), (-34.639563657, -58.457865715), (-34.642829615, -58.461534977)]\n",
    "    \n",
    "    lineaA = [(-34.608557137, -58.374567032), (-34.609086958, -58.382549286), (-34.609404849, -58.386669159), (-34.609652097, -58.398342133),\n",
    "              (-34.609687418, -58.406839371), (-34.610782364, -58.415164948), (-34.615091365, -58.429327011), (-34.611736015, -58.421730995),\n",
    "              (-34.618022770, -58.435893059), (-34.620459643, -58.441429138), (-34.623567434, -58.448810577), (-34.626533854, -58.456192017)]\n",
    "    \n",
    "    lineaB = [(-34.602870174, -58.369545937), (-34.603294060, -58.374567032), (-34.604141827, -58.386712074), (-34.604530384, -58.392891884),\n",
    "              (-34.604530384, -58.399200439), (-34.604565707, -58.405079842), (-34.604106503, -58.411602974), (-34.603152765, -58.421001434),\n",
    "              (-34.602057719, -58.430914879), (-34.599055099, -58.439583778), (-34.591671724, -58.447651863), (-34.584111033, -58.466534615),\n",
    "              (-34.581567095, -58.473873138), (-34.573828804, -58.487434387)]\n",
    "    \n",
    "    lineaC = [(-34.590505868, -58.376069069), (-34.595522465, -58.377442360), (-34.602022395, -58.378129005), (-34.608980994, -58.380703926),\n",
    "              (-34.612407095, -58.380532265), (-34.618058088, -58.380274773), (-34.622331395, -58.379931450), (-34.627964055, -58.381175995)]\n",
    "    \n",
    "    lineaD = [(-34.607621111, -58.374266624), (-34.604336105, -58.380360603), (-34.601845773, -58.385360241), (-34.599426017, -58.392827511),\n",
    "              (-34.599531993, -58.397955894), (-34.594497974, -58.402633667), (-34.591636395, -58.407139778), (-34.588244767, -58.411281109),\n",
    "              (-34.585170985, -58.415830135), (-34.578440064, -58.426043987), (-34.575295247, -58.434326649), (-34.570242091, -58.444347382),\n",
    "              (-34.566125132, -58.452243805), (-34.562396722, -58.456299305), (-34.555982053, -58.462092876)]\n",
    "    \n",
    "    lineaH = [(-34.588138777, -58.398170471), (-34.598684179, -58.403813839), (-34.603700283, -58.405380249), (-34.608945673, -58.405938148),\n",
    "              (-34.615515189, -58.404779434), (-34.622896444, -58.402483463), (-34.629341261, -58.400981426), (-34.635255927, -58.399178982),\n",
    "              (-34.637515748, -58.405981064), (-34.641796880, -58.412622213)]\n",
    "    \n",
    "    subtes = lineaA + lineaB + lineaC + lineaD + lineaE + lineaH\n",
    "    cant_subtes_cercanos = 0\n",
    "    \n",
    "    for i in range(len(subtes)):\n",
    "        if (distancia(geoPos, subtes[i]) <= 700):\n",
    "            cant_subtes_cercanos += 1\n",
    "    return cant_subtes_cercanos"
   ]
  },
  {
   "cell_type": "code",
   "execution_count": 278,
   "metadata": {
    "collapsed": true
   },
   "outputs": [],
   "source": [
    "#Coordenadas de estaciones de trenes separadas por su respectiva linea.\n",
    "def obtener_distancias_a_trenes(geoPos):\n",
    "    lineaSanMartin = [(-34.590505868, -58.376069069), (-34.578987744, -58.426752090), (-34.592448952, -58.446493149),\n",
    "                      (-34.596794231, -58.466062546), (-34.601492528, -58.494043350), (-34.602446285, -58.512883186),\n",
    "                      (-34.603364708, -58.527774811), (-34.603788592, -58.540949821), (-34.604671676, -58.564724922),\n",
    "                      (-34.604848292, -58.596138954), (-34.590965146, -58.632230759), (-34.578563734, -58.656563759),\n",
    "                      (-34.563722005, -58.684630394), (-34.551316528, -58.703513145), (-34.544070309, -58.713254929),\n",
    "                      (-34.519074848, -58.750634193), (-34.503798116, -58.797540665), (-34.490844294, -58.839511871),\n",
    "                      (-34.478719817, -58.877105713), (-34.468530709, -58.908262253)]\n",
    "    \n",
    "    lineaUrquiza = [(-34.586796217, -58.455419540), (-34.590081916, -58.466577530), (-34.592378295, -58.476104736),\n",
    "                    (-34.592961212, -58.494215012), (-34.594409655, -58.502969742), (-34.595557792, -58.510587215),\n",
    "                    (-34.597218148, -58.524470329), (-34.595469475, -58.535284996), (-34.593773756, -58.547022343),\n",
    "                    (-34.591689388, -58.559403419), (-34.589958263, -58.571977615), (-34.588933703, -58.590688705), \n",
    "                    (-34.588421418, -58.607017994), (-34.587767808, -58.620772362), (-34.587608821, -58.629484177),\n",
    "                    (-34.580136095, -58.640384674), (-34.573369430, -58.645083904), (-34.562856156, -58.659975529),\n",
    "                    (-34.555593269, -58.669481277), (-34.549089709, -58.678472042), (-34.543292628, -58.686540127),\n",
    "                    (-34.536575994, -58.695423603), (-34.532846260, -58.700573444)]\n",
    "    \n",
    "    lineaRoca = [(-34.625929, -58.381537), (-34.653588, -58.378764), (-34.661962, -58.376580), (-34.686132, -58.383069), \n",
    "                 (-34.707708, -58.391056), (-34.726060, -58.390585), (-34.743153, -58.395465), (-34.761184, -58.397406), \n",
    "                 (-34.775976, -58.396176), (-34.795120, -58.408172), (-34.796928, -58.428929), (-34.803084, -58.448641),\n",
    "                 (-34.814747, -58.469670), (-34.833361, -58.496412), (-34.854207, -58.522616), (-34.678947, -58.345075),\n",
    "                 (-34.691431, -58.325349), (-34.697429, -58.311186), (-34.703336, -58.296038), (-34.709460, -58.280410),\n",
    "                 (-34.724708, -58.260829), (-34.751987, -58.234202), (-34.763887, -58.208775), (-34.775144, -58.194796),\n",
    "                 (-34.789613, -58.203033), (-34.807186, -58.213065), (-34.819260, -58.230481)]\n",
    "    \n",
    "    lineaMitre = [(-34.589495900, -58.375815000), (-34.571805900, -58.425271100), (-34.575154900, -58.432836300), \n",
    "                  (-34.573093100, -58.448278700), (-34.567728900, -58.461285900), (-34.568478300, -58.479030100), \n",
    "                  (-34.574920000, -58.487589000), (-34.580332000, -58.501930000), (-34.582301700, -58.517546400), \n",
    "                  (-34.573738900, -58.531764100), (-34.563129900, -58.540566100), (-34.557439000, -58.547953800), \n",
    "                  (-34.550860200, -58.556444200), (-34.542311700, -58.567056900), (-34.534233500, -58.576114100),\n",
    "                  (-34.565444000, -58.475835000), (-34.554347600, -58.486654600), (-34.542106100, -58.494398600),\n",
    "                  (-34.529326200, -58.494565900), (-34.523137200, -58.494077700), (-34.514509800, -58.489039400),\n",
    "                  (-34.562738100, -58.435664200), (-34.558524000, -58.449531000), (-34.548763000, -58.463060000),\n",
    "                  (-34.536155000, -58.468273900), (-34.524049100, -58.473396200), (-34.508383800, -58.480840100),\n",
    "                  (-34.497587000, -58.488880900), (-34.487893200, -58.497004400), (-34.479836700, -58.503698100),\n",
    "                  (-34.471657700, -58.514076400), (-34.460823300, -58.526215300), (-34.455746600, -58.540753700),\n",
    "                  (-34.450016200, -58.551330000), (-34.444265500, -58.558544900), (-34.436394400, -58.568376300),\n",
    "                  (-34.423474500, -58.581848200)]\n",
    "    \n",
    "    lineaBelgranoSur = [(-34.712196387, -58.524127007), (-34.710679445, -58.537001610), (-34.708809687, -58.551721573),\n",
    "                        (-34.704434996, -58.587427139), (-34.699566116, -58.626222610), (-34.696849297, -58.647508621),\n",
    "                        (-34.691927041, -58.686497211), (-34.708986081, -58.731236458), (-34.722249832, -58.530778885),\n",
    "                        (-34.750622175, -58.584401608), (-34.756387146, -58.601760864), (-34.760230237, -58.615579605),\n",
    "                        (-34.771652680, -58.646779060), (-34.645424635, -58.393964767), (-34.648884536, -58.415679932),\n",
    "                        (-34.662228516, -58.440999985), (-34.665334743, -58.448553085), (-34.677299687, -58.477134705),\n",
    "                        (-34.683757921, -58.491854668), (-34.689968643, -58.507561684), (-34.702318127, -58.511638641),\n",
    "                        (-34.710714723, -58.514385223), (-34.710291385, -58.505930901), (-34.718122776, -58.477563858),\n",
    "                        (-34.718934094, -58.462457657), (-34.704928924, -58.440527916), (-34.697801958, -58.429198265),\n",
    "                        (-34.681322908, -58.428468704), (-34.661028352, -58.415594101)]\n",
    "    \n",
    "    lineaBelgranoNorte = [(-34.575254, -58.399343), (-34.543440, -58.447546), (-34.537156, -58.477231), \n",
    "                          (-34.543428, -58.500637), (-34.537072, -58.513160), (-34.531088, -58.524844), \n",
    "                          (-34.528640, -58.537715), (-34.523648, -58.546230), (-34.508921, -58.564748),\n",
    "                          (-34.504075, -58.620185), (-34.502567, -58.641925), (-34.502914, -58.666516),\n",
    "                          (-34.503488, -58.680711), (-34.498965, -58.694541), (-34.493690, -58.706301),\n",
    "                          (-34.485394, -58.725105), (-34.478762, -58.739754), (-34.470653, -58.757971),\n",
    "                          (-34.463085, -58.774975), (-34.453257, -58.796700), (-34.416597, -58.871704)]\n",
    "    \n",
    "    trenes = lineaSanMartin + lineaUrquiza + lineaRoca + lineaMitre + lineaBelgranoSur + lineaBelgranoNorte\n",
    "    cant_trenes_cercanos = 0\n",
    "    \n",
    "    for i in range(len(trenes)):\n",
    "        if (distancia(geoPos, trenes[i]) <= 800):\n",
    "            cant_trenes_cercanos += 1\n",
    "    return cant_trenes_cercanos"
   ]
  },
  {
   "cell_type": "code",
   "execution_count": 279,
   "metadata": {
    "collapsed": true
   },
   "outputs": [],
   "source": [
    "#funcion para obtener la suma de estaciones de trenes y estaciones de subtes cercanas a una propiedad.\n",
    "def obtener_distancia_subteytren(geoPos):\n",
    "    return obtener_subtes_cercanos(geoPos) + obtener_distancias_a_trenes(geoPos)\n"
   ]
  },
  {
   "cell_type": "code",
   "execution_count": 280,
   "metadata": {
    "collapsed": true
   },
   "outputs": [],
   "source": [
    "def obtenerDistanciaZonaInsegura(geoPos):\n",
    "    #Obtenemos las coordenadas de las comisarias mas afectadas.\n",
    "    comisarias = [(-34.630975500, -58.458303800), (-34.602049200, -58.373201600), (-34.629577700, -58.524118200), \n",
    "                  (-34.560070200, -58.456198000), (-34.661963300, -58.501216900), (-34.604256000, -58.415567000), \n",
    "                  (-34.626941500, -58.447969600)]\n",
    "    \n",
    "    distancias = [obtenerDistanciaDelitoMenor(geoPos), obtenerDistanciaDelitoGrave(geoPos)] \n",
    "    for i in range(len(comisarias)):\n",
    "        distancias.append(distancia(geoPos, comisarias[i]))\n",
    "       \n",
    "    return min( distancias)\n",
    "\n",
    "def obtenerDistanciaDelitoMenor(geoPos):\n",
    "    #Obtenenemos las coordenadas de los puntos donde se concentran la mayor cantidad de delitos.\n",
    "    delitosMenores = [(-34.592166325, -58.373794556), (-34.584245294, -58.390552998), (-34.598480800, -58.403680000), \n",
    "                      (-34.535819454, -58.466749191), (-34.539142518, -58.475718498), (-34.562117527, -58.456835747),\n",
    "                      (-34.570174948, -58.444776535), (-34.563255508, -58.438510895), (-34.577630903, -58.426966667),\n",
    "                      (-34.581694293, -58.420443535), (-34.599066000, -58.382093800), (-34.617612000, -58.380684900)]\n",
    "    distancias = [] \n",
    "    for i in range(len(delitosMenores)):\n",
    "        distancias.append(distancia(geoPos, delitosMenores[i]))\n",
    "    \n",
    "    return min( distancias)\n",
    "\n",
    "def obtenerDistanciaDelitoGrave(geoPos):\n",
    "    delitosGraves = [(-34.635299800, -58.487350800), (-34.626672200, -58.456726200), (-34.630691600, -58.469656000),\n",
    "                      (-34.617770100, -58.476078700), (-34.618856000, -58.403548700), (-34.610105500, -58.405879100), \n",
    "                      (-34.665207669, -58.469409943), (-34.637247398, -58.410530090)]\n",
    "    distancias = [] \n",
    "    for i in range(len(delitosGraves)):\n",
    "        distancias.append(distancia(geoPos, delitosGraves[i]))\n",
    "    \n",
    "    return min( distancias)"
   ]
  },
  {
   "cell_type": "code",
   "execution_count": 281,
   "metadata": {},
   "outputs": [
    {
     "name": "stderr",
     "output_type": "stream",
     "text": [
      "/usr/local/lib/python3.5/dist-packages/ipykernel_launcher.py:2: SettingWithCopyWarning: \n",
      "A value is trying to be set on a copy of a slice from a DataFrame.\n",
      "Try using .loc[row_indexer,col_indexer] = value instead\n",
      "\n",
      "See the caveats in the documentation: http://pandas.pydata.org/pandas-docs/stable/indexing.html#indexing-view-versus-copy\n",
      "  \n",
      "/usr/local/lib/python3.5/dist-packages/ipykernel_launcher.py:3: SettingWithCopyWarning: \n",
      "A value is trying to be set on a copy of a slice from a DataFrame.\n",
      "Try using .loc[row_indexer,col_indexer] = value instead\n",
      "\n",
      "See the caveats in the documentation: http://pandas.pydata.org/pandas-docs/stable/indexing.html#indexing-view-versus-copy\n",
      "  This is separate from the ipykernel package so we can avoid doing imports until\n",
      "/usr/local/lib/python3.5/dist-packages/ipykernel_launcher.py:4: SettingWithCopyWarning: \n",
      "A value is trying to be set on a copy of a slice from a DataFrame.\n",
      "Try using .loc[row_indexer,col_indexer] = value instead\n",
      "\n",
      "See the caveats in the documentation: http://pandas.pydata.org/pandas-docs/stable/indexing.html#indexing-view-versus-copy\n",
      "  after removing the cwd from sys.path.\n",
      "/usr/local/lib/python3.5/dist-packages/ipykernel_launcher.py:5: SettingWithCopyWarning: \n",
      "A value is trying to be set on a copy of a slice from a DataFrame.\n",
      "Try using .loc[row_indexer,col_indexer] = value instead\n",
      "\n",
      "See the caveats in the documentation: http://pandas.pydata.org/pandas-docs/stable/indexing.html#indexing-view-versus-copy\n",
      "  \"\"\"\n",
      "/usr/local/lib/python3.5/dist-packages/ipykernel_launcher.py:6: SettingWithCopyWarning: \n",
      "A value is trying to be set on a copy of a slice from a DataFrame.\n",
      "Try using .loc[row_indexer,col_indexer] = value instead\n",
      "\n",
      "See the caveats in the documentation: http://pandas.pydata.org/pandas-docs/stable/indexing.html#indexing-view-versus-copy\n",
      "  \n",
      "/usr/local/lib/python3.5/dist-packages/ipykernel_launcher.py:7: SettingWithCopyWarning: \n",
      "A value is trying to be set on a copy of a slice from a DataFrame.\n",
      "Try using .loc[row_indexer,col_indexer] = value instead\n",
      "\n",
      "See the caveats in the documentation: http://pandas.pydata.org/pandas-docs/stable/indexing.html#indexing-view-versus-copy\n",
      "  import sys\n",
      "/usr/local/lib/python3.5/dist-packages/ipykernel_launcher.py:8: SettingWithCopyWarning: \n",
      "A value is trying to be set on a copy of a slice from a DataFrame.\n",
      "Try using .loc[row_indexer,col_indexer] = value instead\n",
      "\n",
      "See the caveats in the documentation: http://pandas.pydata.org/pandas-docs/stable/indexing.html#indexing-view-versus-copy\n",
      "  \n"
     ]
    }
   ],
   "source": [
    "#Agrego varias columnas con distancias que nos pueden servir. Ademas la cantidad de subtes/trenes cercanos a cada propiedad.\n",
    "dataAExportarTrain['geoPos'] = dataAExportarTrain.loc[:,['lat', 'lon']].apply(obtener_geoPos, axis = 1)\n",
    "dataAExportarTrain['distanciaCentro'] = dataAExportarTrain['geoPos'].apply(obtener_distancia_al_centro)\n",
    "dataAExportarTrain['distanciaAIndoamericano'] = dataAExportarTrain['geoPos'].apply(distanciaAVillas)\n",
    "dataAExportarTrain['distanciaAFuerteApache'] = dataAExportarTrain['geoPos'].apply(distanciaAFuerteApache)\n",
    "dataAExportarTrain['distanciaACarlosGardel'] = dataAExportarTrain['geoPos'].apply(distanciaACarlosGardel)\n",
    "dataAExportarTrain['cant_subtes_cercanos'] = dataAExportarTrain['geoPos'].apply(obtener_subtes_cercanos)\n",
    "dataAExportarTrain['cant_trenes_cercanos'] = dataAExportarTrain['geoPos'].apply(obtener_distancias_a_trenes)"
   ]
  },
  {
   "cell_type": "code",
   "execution_count": 282,
   "metadata": {},
   "outputs": [
    {
     "name": "stdout",
     "output_type": "stream",
     "text": [
      "<class 'pandas.core.frame.DataFrame'>\n",
      "Int64Index: 91796 entries, 3658 to 187478\n",
      "Data columns (total 24 columns):\n",
      "place_with_parent_names    91796 non-null object\n",
      "created_on                 91796 non-null datetime64[ns]\n",
      "property_type              91796 non-null object\n",
      "lat                        91796 non-null float64\n",
      "lon                        91796 non-null float64\n",
      "barrio                     91796 non-null object\n",
      "price_aprox_usd            91796 non-null float64\n",
      "price_usd_per_m2           91796 non-null float64\n",
      "surface_total_in_m2        91796 non-null float64\n",
      "surface_covered_in_m2      91796 non-null float64\n",
      "zona                       91796 non-null object\n",
      "pileta                     91796 non-null int64\n",
      "cochera                    91796 non-null int64\n",
      "aire acondicionado         91796 non-null int64\n",
      "seguridad                  91796 non-null int64\n",
      "patio                      91796 non-null int64\n",
      "amenities                  91796 non-null int64\n",
      "geoPos                     91796 non-null object\n",
      "distanciaCentro            91796 non-null float64\n",
      "distanciaAIndoamericano    91796 non-null float64\n",
      "distanciaAFuerteApache     91796 non-null float64\n",
      "distanciaACarlosGardel     91796 non-null float64\n",
      "cant_subtes_cercanos       91796 non-null int64\n",
      "cant_trenes_cercanos       91796 non-null int64\n",
      "dtypes: datetime64[ns](1), float64(10), int64(8), object(5)\n",
      "memory usage: 17.5+ MB\n"
     ]
    }
   ],
   "source": [
    "dataAExportarTrain = dataAExportarTrain.loc[dataAExportarTrain['distanciaCentro'] < 65000, :]\n",
    "dataAExportarTrain = dataAExportarTrain.loc[dataAExportarTrain['surface_total_in_m2'] < 21000, :]\n",
    "dataAExportarTrain.info()"
   ]
  },
  {
   "cell_type": "code",
   "execution_count": 283,
   "metadata": {
    "collapsed": true
   },
   "outputs": [],
   "source": [
    "#Eliminamos las propiedades duplicadas\n",
    "dataAExportarTrain.drop_duplicates(inplace=True, keep='first')"
   ]
  },
  {
   "cell_type": "code",
   "execution_count": 284,
   "metadata": {
    "collapsed": true
   },
   "outputs": [],
   "source": [
    "#Si tiene al menos 1 subte/tren cercano, se pone un 1 sino un 0.\n",
    "dataAExportarTrain['subtes_cercanos'] = dataAExportarTrain['cant_subtes_cercanos'].apply(lambda x: 1 if x > 0 else 0)\n",
    "dataAExportarTrain['trenes_cercanos'] = dataAExportarTrain['cant_trenes_cercanos'].apply(lambda x: 1 if x > 0 else 0)"
   ]
  },
  {
   "cell_type": "code",
   "execution_count": 285,
   "metadata": {
    "collapsed": true
   },
   "outputs": [],
   "source": [
    "dataAExportarTrain = dataAExportarTrain.drop(['place_with_parent_names', 'geoPos','cant_subtes_cercanos', 'cant_trenes_cercanos' ], axis = 1)"
   ]
  },
  {
   "cell_type": "code",
   "execution_count": 286,
   "metadata": {},
   "outputs": [
    {
     "name": "stdout",
     "output_type": "stream",
     "text": [
      "<class 'pandas.core.frame.DataFrame'>\n",
      "Int64Index: 86846 entries, 3658 to 187478\n",
      "Data columns (total 22 columns):\n",
      "created_on                 86846 non-null datetime64[ns]\n",
      "property_type              86846 non-null object\n",
      "lat                        86846 non-null float64\n",
      "lon                        86846 non-null float64\n",
      "barrio                     86846 non-null object\n",
      "price_aprox_usd            86846 non-null float64\n",
      "price_usd_per_m2           86846 non-null float64\n",
      "surface_total_in_m2        86846 non-null float64\n",
      "surface_covered_in_m2      86846 non-null float64\n",
      "zona                       86846 non-null object\n",
      "pileta                     86846 non-null int64\n",
      "cochera                    86846 non-null int64\n",
      "aire acondicionado         86846 non-null int64\n",
      "seguridad                  86846 non-null int64\n",
      "patio                      86846 non-null int64\n",
      "amenities                  86846 non-null int64\n",
      "distanciaCentro            86846 non-null float64\n",
      "distanciaAIndoamericano    86846 non-null float64\n",
      "distanciaAFuerteApache     86846 non-null float64\n",
      "distanciaACarlosGardel     86846 non-null float64\n",
      "subtes_cercanos            86846 non-null int64\n",
      "trenes_cercanos            86846 non-null int64\n",
      "dtypes: datetime64[ns](1), float64(10), int64(8), object(3)\n",
      "memory usage: 15.2+ MB\n"
     ]
    }
   ],
   "source": [
    "dataAExportarTrain.info()"
   ]
  },
  {
   "cell_type": "code",
   "execution_count": 287,
   "metadata": {
    "collapsed": true
   },
   "outputs": [],
   "source": [
    "#Agregamos las distancias y la cant de trenes/subtes al csv de properati\n",
    "dataAExportarTest = dataNo_price\n",
    "dataAExportarTest['geoPos'] = dataAExportarTest.loc[:,['lat', 'lon']].apply(obtener_geoPos, axis = 1)\n",
    "dataAExportarTest['distanciaCentro'] = dataAExportarTest['geoPos'].apply(obtener_distancia_al_centro)\n",
    "dataAExportarTest['distanciaAIndoamericano'] = dataAExportarTest['geoPos'].apply(distanciaAVillas)\n",
    "dataAExportarTest['distanciaAFuerteApache'] = dataAExportarTest['geoPos'].apply(distanciaAFuerteApache)\n",
    "dataAExportarTest['distanciaACarlosGardel'] = dataAExportarTest['geoPos'].apply(distanciaACarlosGardel)\n",
    "dataAExportarTest['cant_subtes_cercanos'] = dataAExportarTest['geoPos'].apply(obtener_subtes_cercanos)\n",
    "dataAExportarTest['cant_trenes_cercanos'] = dataAExportarTest['geoPos'].apply(obtener_distancias_a_trenes)"
   ]
  },
  {
   "cell_type": "code",
   "execution_count": 288,
   "metadata": {
    "collapsed": true
   },
   "outputs": [],
   "source": [
    "dataAExportarTest['subtes_cercanos'] = dataAExportarTest['cant_subtes_cercanos'].apply(lambda x: 1 if x > 0 else 0)\n",
    "dataAExportarTest['trenes_cercanos'] = dataAExportarTest['cant_trenes_cercanos'].apply(lambda x: 1 if x > 0 else 0)"
   ]
  },
  {
   "cell_type": "code",
   "execution_count": 289,
   "metadata": {
    "collapsed": true
   },
   "outputs": [],
   "source": [
    "dataAExportarTest = dataAExportarTest.drop(['place_with_parent_names', 'geoPos','cant_subtes_cercanos', 'cant_trenes_cercanos' ], axis = 1)"
   ]
  },
  {
   "cell_type": "code",
   "execution_count": 290,
   "metadata": {},
   "outputs": [
    {
     "name": "stdout",
     "output_type": "stream",
     "text": [
      "<class 'pandas.core.frame.DataFrame'>\n",
      "RangeIndex: 14166 entries, 0 to 14165\n",
      "Data columns (total 21 columns):\n",
      "id                         14166 non-null int64\n",
      "created_on                 14166 non-null datetime64[ns]\n",
      "property_type              14166 non-null object\n",
      "lat                        14166 non-null float64\n",
      "lon                        14166 non-null float64\n",
      "barrio                     14166 non-null object\n",
      "surface_total_in_m2        14166 non-null float64\n",
      "surface_covered_in_m2      14166 non-null float64\n",
      "zona                       14166 non-null object\n",
      "pileta                     14166 non-null int64\n",
      "cochera                    14166 non-null int64\n",
      "aire acondicionado         14166 non-null int64\n",
      "seguridad                  14166 non-null int64\n",
      "patio                      14166 non-null int64\n",
      "amenities                  14166 non-null int64\n",
      "distanciaCentro            14166 non-null float64\n",
      "distanciaAIndoamericano    14166 non-null float64\n",
      "distanciaAFuerteApache     14166 non-null float64\n",
      "distanciaACarlosGardel     14166 non-null float64\n",
      "subtes_cercanos            14166 non-null int64\n",
      "trenes_cercanos            14166 non-null int64\n",
      "dtypes: datetime64[ns](1), float64(8), int64(9), object(3)\n",
      "memory usage: 2.3+ MB\n"
     ]
    }
   ],
   "source": [
    "dataAExportarTest.info()"
   ]
  },
  {
   "cell_type": "code",
   "execution_count": 291,
   "metadata": {
    "collapsed": true
   },
   "outputs": [],
   "source": [
    "#Creamos los csv ya listo para entrenar a los algoritmos y para testear que tan buenos son.\n",
    "dataAExportarTrain.to_csv('setEntrenamiento.csv')\n",
    "dataAExportarTest.to_csv('setTesteo.csv')"
   ]
  }
 ],
 "metadata": {
  "kernelspec": {
   "display_name": "Python 3",
   "language": "python",
   "name": "python3"
  },
  "language_info": {
   "codemirror_mode": {
    "name": "ipython",
    "version": 3
   },
   "file_extension": ".py",
   "mimetype": "text/x-python",
   "name": "python",
   "nbconvert_exporter": "python",
   "pygments_lexer": "ipython3",
   "version": "3.5.2"
  }
 },
 "nbformat": 4,
 "nbformat_minor": 2
}
